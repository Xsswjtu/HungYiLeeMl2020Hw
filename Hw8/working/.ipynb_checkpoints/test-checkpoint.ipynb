{
 "cells": [
  {
   "cell_type": "code",
   "execution_count": 38,
   "metadata": {},
   "outputs": [],
   "source": [
    "import numpy as np\n",
    "import torch\n",
    "from torch import nn\n",
    "\n",
    "class Attention(nn.Module):\n",
    "    def __init__(self, hid_dim):\n",
    "        super(Attention, self).__init__()\n",
    "        self.hid_dim = hid_dim\n",
    "\n",
    "    def forward(self, encoder_outputs, decoder_hidden):\n",
    "        # encoder_outputs = [batch size, sequence len, hid dim * directions] = [60,50,1024]\n",
    "        # decoder_hidden = [num_layers, batch size, hid dim] = [3,60,1024]\n",
    "        # 一般來說是取 Decoder 最後一層的 hidden state 來做 attention\n",
    "\n",
    "        decoder_last_hidden = decoder_hidden[-1,:,:]\n",
    "        decoder_last_hidden = decoder_last_hidden.unsqueeze(1)\n",
    "        decoder_last_hidden = decoder_last_hidden.transpose(1,2)\n",
    "\n",
    "        attention = encoder_outputs.bmm(decoder_last_hidden).squeeze()\n",
    "        attention = torch.nn.functional.softmax(attention,dim=1)\n",
    "        return attention  # [batch, 1, hid_dim * 2]"
   ]
  },
  {
   "cell_type": "code",
   "execution_count": 43,
   "metadata": {},
   "outputs": [],
   "source": [
    "if __name__ == '__main__':\n"
   ]
  }
 ],
 "metadata": {
  "kernelspec": {
   "display_name": "Python 3",
   "language": "python",
   "name": "python3"
  },
  "language_info": {
   "codemirror_mode": {
    "name": "ipython",
    "version": 3
   },
   "file_extension": ".py",
   "mimetype": "text/x-python",
   "name": "python",
   "nbconvert_exporter": "python",
   "pygments_lexer": "ipython3",
   "version": "3.7.6"
  }
 },
 "nbformat": 4,
 "nbformat_minor": 4
}
