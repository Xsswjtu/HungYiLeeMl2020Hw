{
 "cells": [
  {
   "cell_type": "code",
   "execution_count": 425,
   "metadata": {},
   "outputs": [],
   "source": [
    "class LinearRegreesionModel:\n",
    "    '''\n",
    "    采用gradient descent进行训练的线性模型\n",
    "    '''\n",
    "    def __init__(self,lr=0.03,epoches=1000,lbd=0):\n",
    "        '''\n",
    "        lr, learning rate\n",
    "        epoches\n",
    "        lbd, lambda for regularization\n",
    "        '''\n",
    "        self.lr = lr\n",
    "        self.epoches = epoches\n",
    "        self.lbd = lbd\n",
    "        self.theta = None\n",
    "        self.loss_history = []\n",
    "\n",
    "    def get_parameters(self):\n",
    "        return self.theta\n",
    "        \n",
    "    def predict(self,X):\n",
    "        '''\n",
    "        预测y\n",
    "        '''\n",
    "        X_temp = np.concatenate((np.ones((X.shape[0],1),dtype=np.float32),X),axis=1)\n",
    "        return X_temp@self.theta\n",
    "\n",
    "    def _error(self,p,y):\n",
    "        '''\n",
    "        return error between predict p and target y\n",
    "        '''\n",
    "        return p-y\n",
    "    \n",
    "    def _loss(self,X,y):\n",
    "        '''\n",
    "        计算Mean squared error AND grad\n",
    "        '''\n",
    "        X_temp = np.concatenate((np.ones((X.shape[0],1),dtype=np.float32),X),axis=1)\n",
    "        m = X_temp.shape[0]\n",
    "        p = X_temp@self.theta\n",
    "        error = self._error(p,y)\n",
    "        theta_temp = self.theta.copy()\n",
    "        theta_temp[0] = 0\n",
    "        \n",
    "        loss = ((error.T@error) + self.lbd*theta_temp.T@theta_temp)/2/m\n",
    "        loss = loss.item()\n",
    "        grad = (X_temp.T@error + self.lbd*theta_temp)/m\n",
    "        \n",
    "        return loss,grad\n",
    "   \n",
    "    def history(self):\n",
    "        return self.loss_history,self.grad_history\n",
    "\n",
    "    def noramlEquation(self,X,y):\n",
    "        X_temp = np.concatenate((np.ones((X.shape[0],1),dtype=np.float32),X),axis=1)\n",
    "        return np.linalg.inv(X_temp.T@X_temp)@X_temp.T@y\n",
    "    \n",
    "    def fit(self,X,y):\n",
    "        '''\n",
    "        fit data by gradient descent\n",
    "        '''\n",
    "        self.loss_history = []\n",
    "        self.grad_history = []\n",
    "        m,n = X.shape\n",
    "        \n",
    "        self.theta = np.zeros((n+1,1))\n",
    "        for epoch in range(self.epoches):\n",
    "            loss,grad = self._loss(X,y)\n",
    "            self.loss_history.append(loss)\n",
    "            self.grad_history.append(grad)\n",
    "\n",
    "            self.theta = self.theta - self.lr*grad\n",
    "            \n",
    "            if (epoch+1) % 100 == 0:\n",
    "                print(f'epoch:{epoch+1} loss:{loss}')\n",
    "\n",
    "            if loss < 1e-6:\n",
    "                break"
   ]
  },
  {
   "cell_type": "code",
   "execution_count": 426,
   "metadata": {},
   "outputs": [
    {
     "data": {
      "text/plain": [
       "<matplotlib.collections.PathCollection at 0x7fd53adebc88>"
      ]
     },
     "execution_count": 426,
     "metadata": {},
     "output_type": "execute_result"
    },
    {
     "data": {
      "image/png": "[encoded data removed]",
      "text/plain": [
       "<Figure size 432x288 with 1 Axes>"
      ]
     },
     "metadata": {
      "needs_background": "light"
     },
     "output_type": "display_data"
    }
   ],
   "source": [
    "# test data\n",
    "\n",
    "import numpy as np\n",
    "import matplotlib.pyplot as plt\n",
    "\n",
    "num = 10\n",
    "\n",
    "x = np.arange(num)\n",
    "\n",
    "X = np.empty((num,2))\n",
    "\n",
    "X[:,0] = x\n",
    "X[:,1] = x**2\n",
    "\n",
    "y = 1 + 2*x + 3*x**2\n",
    "\n",
    "plt.scatter(x,y)"
   ]
  },
  {
   "cell_type": "code",
   "execution_count": 438,
   "metadata": {},
   "outputs": [
    {
     "name": "stdout",
     "output_type": "stream",
     "text": [
      "epoch:100 loss:370.4045929185578\n",
      "epoch:200 loss:19.232351644059186\n",
      "epoch:300 loss:4.107421109059067\n",
      "epoch:400 loss:3.4431191619447956\n",
      "epoch:500 loss:3.401132981564831\n",
      "epoch:600 loss:3.385980907322113\n",
      "epoch:700 loss:3.3720383270992578\n",
      "epoch:800 loss:3.358202354043847\n",
      "epoch:900 loss:3.34442530543769\n",
      "epoch:1000 loss:3.330704906352122\n"
     ]
    },
    {
     "data": {
      "text/plain": [
       "[<matplotlib.lines.Line2D at 0x7fd53abd0c88>]"
      ]
     },
     "execution_count": 438,
     "metadata": {},
     "output_type": "execute_result"
    },
    {
     "data": {
      "image/png": "[encoded data removed]",
      "text/plain": [
       "<Figure size 432x288 with 1 Axes>"
      ]
     },
     "metadata": {
      "needs_background": "light"
     },
     "output_type": "display_data"
    }
   ],
   "source": [
    "model = LinearRegreesionModel(lr=0.00001)\n",
    "\n",
    "model.fit(X,y.reshape(-1,1))\n",
    "\n",
    "p = model.predict(X)\n",
    "\n",
    "plt.scatter(x,y)\n",
    "plt.plot(x,p)"
   ]
  },
  {
   "cell_type": "code",
   "execution_count": 439,
   "metadata": {},
   "outputs": [
    {
     "data": {
      "text/plain": [
       "[<matplotlib.lines.Line2D at 0x7fd53ab20fd0>]"
      ]
     },
     "execution_count": 439,
     "metadata": {},
     "output_type": "execute_result"
    },
    {
     "data": {
      "image/png": "[encoded data removed]",
      "text/plain": [
       "<Figure size 432x288 with 1 Axes>"
      ]
     },
     "metadata": {
      "needs_background": "light"
     },
     "output_type": "display_data"
    }
   ],
   "source": [
    "loss_history,grad_hisltory = model.history()\n",
    "plt.plot(loss_history)"
   ]
  },
  {
   "cell_type": "code",
   "execution_count": 441,
   "metadata": {},
   "outputs": [
    {
     "data": {
      "text/plain": [
       "array([1., 2., 3.])"
      ]
     },
     "execution_count": 441,
     "metadata": {},
     "output_type": "execute_result"
    }
   ],
   "source": [
    "model.noramlEquation(X,y)"
   ]
  },
  {
   "cell_type": "code",
   "execution_count": 442,
   "metadata": {},
   "outputs": [
    {
     "data": {
      "text/plain": [
       "array([0.07592699, 0.46007852, 3.22085559])"
      ]
     },
     "execution_count": 442,
     "metadata": {},
     "output_type": "execute_result"
    }
   ],
   "source": [
    "model.get_parameters().flatten()"
   ]
  },
  {
   "cell_type": "code",
   "execution_count": null,
   "metadata": {},
   "outputs": [],
   "source": []
  },
  {
   "cell_type": "code",
   "execution_count": null,
   "metadata": {},
   "outputs": [],
   "source": []
  }
 ],
 "metadata": {
  "kernelspec": {
   "display_name": "Python 3",
   "language": "python",
   "name": "python3"
  },
  "language_info": {
   "codemirror_mode": {
    "name": "ipython",
    "version": 3
   },
   "file_extension": ".py",
   "mimetype": "text/x-python",
   "name": "python",
   "nbconvert_exporter": "python",
   "pygments_lexer": "ipython3",
   "version": "3.6.9"
  }
 },
 "nbformat": 4,
 "nbformat_minor": 4
}
