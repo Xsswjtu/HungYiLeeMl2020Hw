{
 "cells": [
  {
   "cell_type": "code",
   "execution_count": 17,
   "metadata": {
    "collapsed": true,
    "pycharm": {
     "name": "#%%\n"
    }
   },
   "outputs": [
    {
     "data": {
      "text/plain": "        ??? ????    ????.1     0     1     2     3     4     5     6  ...  \\\n0  2014/1/1  ???  AMB_TEMP    14    14    14    13    12    12    12  ...   \n1  2014/1/1  ???       CH4   1.8   1.8   1.8   1.8   1.8   1.8   1.8  ...   \n2  2014/1/1  ???        CO  0.51  0.41  0.39  0.37  0.35   0.3  0.37  ...   \n3  2014/1/1  ???      NMHC   0.2  0.15  0.13  0.12  0.11  0.06   0.1  ...   \n4  2014/1/1  ???        NO   0.9   0.6   0.5   1.7   1.8   1.5   1.9  ...   \n\n     14    15    16    17    18    19    20    21    22    23  \n0    22    22    21    19    17    16    15    15    15    15  \n1   1.8   1.8   1.8   1.8   1.8   1.8   1.8   1.8   1.8   1.8  \n2  0.37  0.37  0.47  0.69  0.56  0.45  0.38  0.35  0.36  0.32  \n3   0.1  0.13  0.14  0.23  0.18  0.12   0.1  0.09   0.1  0.08  \n4   2.5   2.2   2.5   2.3   2.1   1.9   1.5   1.6   1.8   1.5  \n\n[5 rows x 27 columns]",
      "text/html": "<div>\n<style scoped>\n    .dataframe tbody tr th:only-of-type {\n        vertical-align: middle;\n    }\n\n    .dataframe tbody tr th {\n        vertical-align: top;\n    }\n\n    .dataframe thead th {\n        text-align: right;\n    }\n</style>\n<table border=\"1\" class=\"dataframe\">\n  <thead>\n    <tr style=\"text-align: right;\">\n      <th></th>\n      <th>???</th>\n      <th>????</th>\n      <th>????.1</th>\n      <th>0</th>\n      <th>1</th>\n      <th>2</th>\n      <th>3</th>\n      <th>4</th>\n      <th>5</th>\n      <th>6</th>\n      <th>...</th>\n      <th>14</th>\n      <th>15</th>\n      <th>16</th>\n      <th>17</th>\n      <th>18</th>\n      <th>19</th>\n      <th>20</th>\n      <th>21</th>\n      <th>22</th>\n      <th>23</th>\n    </tr>\n  </thead>\n  <tbody>\n    <tr>\n      <th>0</th>\n      <td>2014/1/1</td>\n      <td>???</td>\n      <td>AMB_TEMP</td>\n      <td>14</td>\n      <td>14</td>\n      <td>14</td>\n      <td>13</td>\n      <td>12</td>\n      <td>12</td>\n      <td>12</td>\n      <td>...</td>\n      <td>22</td>\n      <td>22</td>\n      <td>21</td>\n      <td>19</td>\n      <td>17</td>\n      <td>16</td>\n      <td>15</td>\n      <td>15</td>\n      <td>15</td>\n      <td>15</td>\n    </tr>\n    <tr>\n      <th>1</th>\n      <td>2014/1/1</td>\n      <td>???</td>\n      <td>CH4</td>\n      <td>1.8</td>\n      <td>1.8</td>\n      <td>1.8</td>\n      <td>1.8</td>\n      <td>1.8</td>\n      <td>1.8</td>\n      <td>1.8</td>\n      <td>...</td>\n      <td>1.8</td>\n      <td>1.8</td>\n      <td>1.8</td>\n      <td>1.8</td>\n      <td>1.8</td>\n      <td>1.8</td>\n      <td>1.8</td>\n      <td>1.8</td>\n      <td>1.8</td>\n      <td>1.8</td>\n    </tr>\n    <tr>\n      <th>2</th>\n      <td>2014/1/1</td>\n      <td>???</td>\n      <td>CO</td>\n      <td>0.51</td>\n      <td>0.41</td>\n      <td>0.39</td>\n      <td>0.37</td>\n      <td>0.35</td>\n      <td>0.3</td>\n      <td>0.37</td>\n      <td>...</td>\n      <td>0.37</td>\n      <td>0.37</td>\n      <td>0.47</td>\n      <td>0.69</td>\n      <td>0.56</td>\n      <td>0.45</td>\n      <td>0.38</td>\n      <td>0.35</td>\n      <td>0.36</td>\n      <td>0.32</td>\n    </tr>\n    <tr>\n      <th>3</th>\n      <td>2014/1/1</td>\n      <td>???</td>\n      <td>NMHC</td>\n      <td>0.2</td>\n      <td>0.15</td>\n      <td>0.13</td>\n      <td>0.12</td>\n      <td>0.11</td>\n      <td>0.06</td>\n      <td>0.1</td>\n      <td>...</td>\n      <td>0.1</td>\n      <td>0.13</td>\n      <td>0.14</td>\n      <td>0.23</td>\n      <td>0.18</td>\n      <td>0.12</td>\n      <td>0.1</td>\n      <td>0.09</td>\n      <td>0.1</td>\n      <td>0.08</td>\n    </tr>\n    <tr>\n      <th>4</th>\n      <td>2014/1/1</td>\n      <td>???</td>\n      <td>NO</td>\n      <td>0.9</td>\n      <td>0.6</td>\n      <td>0.5</td>\n      <td>1.7</td>\n      <td>1.8</td>\n      <td>1.5</td>\n      <td>1.9</td>\n      <td>...</td>\n      <td>2.5</td>\n      <td>2.2</td>\n      <td>2.5</td>\n      <td>2.3</td>\n      <td>2.1</td>\n      <td>1.9</td>\n      <td>1.5</td>\n      <td>1.6</td>\n      <td>1.8</td>\n      <td>1.5</td>\n    </tr>\n  </tbody>\n</table>\n<p>5 rows × 27 columns</p>\n</div>"
     },
     "execution_count": 17,
     "metadata": {},
     "output_type": "execute_result"
    }
   ],
   "source": [
    "import sys\n",
    "import pandas as pd\n",
    "import numpy as np\n",
    "\n",
    "# loading train.csv file, encoding as big 5\n",
    "data = pd.read_csv('date/train.csv', encoding='big5')\n",
    "# show first 10rows\n",
    "data.head(5)"
   ]
  },
  {
   "cell_type": "markdown",
   "source": [
    "preprocessing"
   ],
   "metadata": {
    "collapsed": false,
    "pycharm": {
     "name": "#%% md\n"
    }
   }
  },
  {
   "cell_type": "code",
   "source": [
    "data = data.iloc[:, 3:]\n",
    "data[data == 'NR'] = 0\n",
    "# convert data  to 2 dimesion\n",
    "raw_data = data.to_numpy()\n",
    "print(raw_data)"
   ],
   "metadata": {
    "collapsed": false,
    "pycharm": {
     "name": "#%%\n"
    }
   },
   "execution_count": 18,
   "outputs": [
    {
     "name": "stdout",
     "output_type": "stream",
     "text": [
      "[['14' '14' '14' ... '15' '15' '15']\n",
      " ['1.8' '1.8' '1.8' ... '1.8' '1.8' '1.8']\n",
      " ['0.51' '0.41' '0.39' ... '0.35' '0.36' '0.32']\n",
      " ...\n",
      " ['36' '55' '72' ... '118' '100' '105']\n",
      " ['1.9' '2.4' '1.9' ... '1.5' '2' '2']\n",
      " ['0.7' '0.8' '1.8' ... '1.6' '1.8' '2']]\n"
     ]
    }
   ]
  },
  {
   "cell_type": "markdown",
   "source": [
    "extract features"
   ],
   "metadata": {
    "collapsed": false,
    "pycharm": {
     "name": "#%% md\n"
    }
   }
  },
  {
   "cell_type": "code",
   "execution_count": null,
   "outputs": [],
   "source": [
    "month_data = {}\n",
    "for month in range(12):\n",
    "    sample = np.empty([18, 20*24])\n",
    "    for day in range(20):\n",
    "        sample[:, day * 24 : (day+1)*24] = raw_data[18*(20*month+day): 18*(20*month+day+1), :]\n",
    "    month_data[month] = sample\n",
    "# print(month_data)\n",
    "\n",
    "x = np.empty([12 * 471, 18 * 9], dtype=float)\n",
    "y = np.empty([12 * 471, 1], dtype=float)\n",
    "for month in range(12):\n",
    "    for day in range(20):\n",
    "        for hour in range(24):\n",
    "            if day == 19 and hour > 14:\n",
    "                continue\n",
    "            x[month*471 + day*24 + hour, :] = month_data[month][:, day*24 + hour: day*24 + hour + 9].reshape(1, -1)  # vector\n",
    "            y[month*471 + day*24 + hour, 0] = month_data[month][9, day*24 + hour + 9] # value\n",
    "print(x)\n",
    "print(y)"
   ],
   "metadata": {
    "collapsed": false,
    "pycharm": {
     "name": "#%%\n",
     "is_executing": true
    }
   }
  },
  {
   "cell_type": "markdown",
   "source": [
    "normalize\n",
    "\n"
   ],
   "metadata": {
    "collapsed": false,
    "pycharm": {
     "name": "#%% md\n"
    }
   }
  },
  {
   "cell_type": "code",
   "execution_count": null,
   "outputs": [],
   "source": [
    "mean_x = np.mean(x, axis=0)\n",
    "std_x = np.std(x, axis=0)\n",
    "for i in range(len(x)):\n",
    "    for j in range(len(x[0])):\n",
    "        if std_x[j] != 0:\n",
    "            x[i][j] = (x[i][j] - mean_x[j]) / std_x[j]\n",
    "print(x)\n"
   ],
   "metadata": {
    "collapsed": false,
    "pycharm": {
     "name": "#%%\n"
    }
   }
  }
 ],
 "metadata": {
  "kernelspec": {
   "display_name": "Python 3",
   "language": "python",
   "name": "python3"
  },
  "language_info": {
   "codemirror_mode": {
    "name": "ipython",
    "version": 2
   },
   "file_extension": ".py",
   "mimetype": "text/x-python",
   "name": "python",
   "nbconvert_exporter": "python",
   "pygments_lexer": "ipython2",
   "version": "2.7.6"
  }
 },
 "nbformat": 4,
 "nbformat_minor": 0
}