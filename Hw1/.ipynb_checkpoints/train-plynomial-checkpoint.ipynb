{
 "cells": [
  {
   "cell_type": "code",
   "execution_count": 1,
   "metadata": {},
   "outputs": [],
   "source": [
    "from DataReader import DataReader\n",
    "\n",
    "dr = DataReader(hours=9)\n",
    "X,y = dr.data()"
   ]
  },
  {
   "cell_type": "code",
   "execution_count": 2,
   "metadata": {},
   "outputs": [],
   "source": [
    "import numpy as np"
   ]
  },
  {
   "cell_type": "code",
   "execution_count": 3,
   "metadata": {},
   "outputs": [],
   "source": [
    "X = np.concatenate((X,(X**2),(X**3)),axis=1)"
   ]
  },
  {
   "cell_type": "code",
   "execution_count": 4,
   "metadata": {},
   "outputs": [],
   "source": [
    "def normal(X):\n",
    "    mu = X.mean(axis=0)\n",
    "    std = X.std(axis=0)\n",
    "    X_norm = (X-mu)/std\n",
    "    return X_norm,mu,std"
   ]
  },
  {
   "cell_type": "code",
   "execution_count": null,
   "metadata": {},
   "outputs": [],
   "source": [
    "from sklearn.model_selection import train_test_split\n",
    "\n",
    "X_train,X_test,y_train,y_test = train_test_split(X,y,test_size=0.5)\n",
    "X_train_norm,mu,std = normal(X_train)\n",
    "X_test_norm = (X_test-mu)/std"
   ]
  },
  {
   "cell_type": "code",
   "execution_count": 5,
   "metadata": {},
   "outputs": [],
   "source": [
    "from LinearRegressionModel import LinearRegreesionModel"
   ]
  },
  {
   "cell_type": "code",
   "execution_count": null,
   "metadata": {},
   "outputs": [],
   "source": [
    "model = LinearRegreesionModel(lr=0.01,lbd=100,epoches=10000)\n",
    "model.fit(X_train_norm,y_train,X_test_norm,y_test)\n",
    "train_loss_history,test_loss_history,grad_history = model.history()"
   ]
  },
  {
   "cell_type": "code",
   "execution_count": null,
   "metadata": {},
   "outputs": [],
   "source": [
    "import matplotlib.pyplot as plt\n",
    "plt.plot(train_loss_history)\n",
    "plt.plot(test_loss_history)\n",
    "plt.legend(['train','test'])\n",
    "\n",
    "train_loss_history[-1],test_loss_history[-1]"
   ]
  },
  {
   "cell_type": "markdown",
   "metadata": {},
   "source": [
    "用全部数据集训练模型"
   ]
  },
  {
   "cell_type": "code",
   "execution_count": 6,
   "metadata": {},
   "outputs": [],
   "source": [
    "from sklearn.model_selection import train_test_split\n",
    "\n",
    "X_norm,mu,std = normal(X)"
   ]
  },
  {
   "cell_type": "code",
   "execution_count": 7,
   "metadata": {},
   "outputs": [],
   "source": []
  },
  {
   "cell_type": "code",
   "execution_count": 59,
   "metadata": {},
   "outputs": [
    {
     "name": "stdout",
     "output_type": "stream",
     "text": [
      "epoch:1000 train loss:18.562529369360234 test loss:0\n",
      "epoch:2000 train loss:17.895551159745757 test loss:0\n",
      "epoch:3000 train loss:17.7088683932879 test loss:0\n",
      "epoch:4000 train loss:17.634971117323335 test loss:0\n",
      "epoch:5000 train loss:17.600974807429004 test loss:0\n",
      "epoch:6000 train loss:17.584067830103375 test loss:0\n",
      "epoch:7000 train loss:17.575259074881554 test loss:0\n",
      "epoch:8000 train loss:17.57052032411726 test loss:0\n",
      "epoch:9000 train loss:17.567906926941408 test loss:0\n",
      "epoch:10000 train loss:17.566434971288068 test loss:0\n",
      "epoch:11000 train loss:17.565590141287768 test loss:0\n",
      "epoch:12000 train loss:17.565096762154273 test loss:0\n",
      "epoch:13000 train loss:17.564803933046377 test loss:0\n",
      "epoch:14000 train loss:17.564627492361332 test loss:0\n",
      "epoch:15000 train loss:17.564519680860265 test loss:0\n",
      "epoch:16000 train loss:17.56445294932156 test loss:0\n",
      "epoch:17000 train loss:17.564411156423965 test loss:0\n",
      "epoch:18000 train loss:17.56438470302111 test loss:0\n",
      "epoch:19000 train loss:17.564367799403026 test loss:0\n",
      "epoch:20000 train loss:17.564356906869005 test loss:0\n",
      "epoch:21000 train loss:17.564349835693342 test loss:0\n",
      "epoch:22000 train loss:17.564345215428883 test loss:0\n",
      "epoch:23000 train loss:17.564342179485013 test loss:0\n",
      "epoch:24000 train loss:17.564340174770983 test loss:0\n",
      "epoch:25000 train loss:17.56433884534956 test loss:0\n",
      "epoch:26000 train loss:17.56433796047578 test loss:0\n",
      "epoch:27000 train loss:17.56433736959619 test loss:0\n",
      "epoch:28000 train loss:17.56433697392328 test loss:0\n",
      "epoch:29000 train loss:17.564336708315803 test loss:0\n",
      "epoch:30000 train loss:17.564336529633856 test loss:0\n",
      "epoch:31000 train loss:17.564336409200536 test loss:0\n",
      "epoch:32000 train loss:17.564336327890487 test loss:0\n",
      "epoch:33000 train loss:17.564336272911945 test loss:0\n",
      "epoch:34000 train loss:17.564336235687733 test loss:0\n",
      "epoch:35000 train loss:17.564336210453924 test loss:0\n",
      "epoch:36000 train loss:17.564336193329535 test loss:0\n",
      "epoch:37000 train loss:17.564336181696863 test loss:0\n",
      "epoch:38000 train loss:17.564336173787517 test loss:0\n",
      "epoch:39000 train loss:17.56433616840528 test loss:0\n",
      "epoch:40000 train loss:17.564336164739874 test loss:0\n",
      "epoch:41000 train loss:17.56433616224186 test loss:0\n",
      "epoch:42000 train loss:17.564336160538314 test loss:0\n",
      "epoch:43000 train loss:17.564336159375824 test loss:0\n",
      "epoch:44000 train loss:17.56433615858209 test loss:0\n",
      "epoch:45000 train loss:17.564336158039833 test loss:0\n",
      "epoch:46000 train loss:17.564336157669192 test loss:0\n",
      "epoch:47000 train loss:17.56433615741572 test loss:0\n",
      "epoch:48000 train loss:17.564336157242295 test loss:0\n",
      "epoch:49000 train loss:17.56433615712358 test loss:0\n",
      "epoch:50000 train loss:17.564336157042295 test loss:0\n",
      "epoch:51000 train loss:17.5643361569866 test loss:0\n",
      "epoch:52000 train loss:17.56433615694844 test loss:0\n",
      "epoch:53000 train loss:17.56433615692227 test loss:0\n",
      "epoch:54000 train loss:17.56433615690433 test loss:0\n",
      "epoch:55000 train loss:17.56433615689201 test loss:0\n",
      "epoch:56000 train loss:17.564336156883556 test loss:0\n",
      "epoch:57000 train loss:17.56433615687776 test loss:0\n",
      "epoch:58000 train loss:17.564336156873775 test loss:0\n",
      "epoch:59000 train loss:17.56433615687104 test loss:0\n",
      "epoch:60000 train loss:17.564336156869157 test loss:0\n",
      "epoch:61000 train loss:17.564336156867864 test loss:0\n",
      "epoch:62000 train loss:17.564336156866975 test loss:0\n",
      "epoch:63000 train loss:17.56433615686636 test loss:0\n",
      "epoch:64000 train loss:17.56433615686594 test loss:0\n",
      "epoch:65000 train loss:17.564336156865657 test loss:0\n",
      "epoch:66000 train loss:17.564336156865444 test loss:0\n",
      "epoch:67000 train loss:17.564336156865313 test loss:0\n",
      "epoch:68000 train loss:17.564336156865224 test loss:0\n",
      "epoch:69000 train loss:17.56433615686516 test loss:0\n",
      "epoch:70000 train loss:17.56433615686511 test loss:0\n",
      "epoch:71000 train loss:17.564336156865085 test loss:0\n",
      "epoch:72000 train loss:17.564336156865057 test loss:0\n",
      "epoch:73000 train loss:17.56433615686505 test loss:0\n",
      "epoch:74000 train loss:17.564336156865036 test loss:0\n",
      "epoch:75000 train loss:17.564336156865032 test loss:0\n",
      "epoch:76000 train loss:17.564336156865025 test loss:0\n",
      "epoch:77000 train loss:17.56433615686502 test loss:0\n",
      "epoch:78000 train loss:17.56433615686502 test loss:0\n",
      "epoch:79000 train loss:17.56433615686502 test loss:0\n",
      "epoch:80000 train loss:17.56433615686502 test loss:0\n",
      "epoch:81000 train loss:17.56433615686501 test loss:0\n",
      "epoch:82000 train loss:17.564336156865014 test loss:0\n",
      "epoch:83000 train loss:17.56433615686501 test loss:0\n",
      "epoch:84000 train loss:17.56433615686501 test loss:0\n",
      "epoch:85000 train loss:17.56433615686501 test loss:0\n",
      "epoch:86000 train loss:17.564336156865014 test loss:0\n",
      "epoch:87000 train loss:17.56433615686501 test loss:0\n",
      "epoch:88000 train loss:17.56433615686501 test loss:0\n",
      "epoch:89000 train loss:17.56433615686501 test loss:0\n",
      "epoch:90000 train loss:17.564336156865014 test loss:0\n",
      "epoch:91000 train loss:17.564336156865007 test loss:0\n",
      "epoch:92000 train loss:17.564336156865014 test loss:0\n",
      "epoch:93000 train loss:17.56433615686501 test loss:0\n",
      "epoch:94000 train loss:17.564336156865014 test loss:0\n",
      "epoch:95000 train loss:17.56433615686501 test loss:0\n",
      "epoch:96000 train loss:17.56433615686501 test loss:0\n",
      "epoch:97000 train loss:17.56433615686501 test loss:0\n",
      "epoch:98000 train loss:17.564336156865018 test loss:0\n",
      "epoch:99000 train loss:17.564336156865014 test loss:0\n",
      "epoch:100000 train loss:17.564336156865014 test loss:0\n"
     ]
    }
   ],
   "source": [
    "\n",
    "model.fit(X_norm,y)\n",
    "train_loss_history,test_loss_history,grad_history = model.history()"
   ]
  },
  {
   "cell_type": "code",
   "execution_count": 73,
   "metadata": {},
   "outputs": [
    {
     "data": {
      "text/plain": [
       "17.564336156865014"
      ]
     },
     "execution_count": 73,
     "metadata": {},
     "output_type": "execute_result"
    },
    {
     "data": {
      "image/png": "[encoded data removed]",
      "text/plain": [
       "<Figure size 432x288 with 1 Axes>"
      ]
     },
     "metadata": {
      "needs_background": "light"
     },
     "output_type": "display_data"
    }
   ],
   "source": [
    "import matplotlib.pyplot as plt\n",
    "plt.plot(train_loss_history[200:])\n",
    "\n",
    "train_loss_history[-1]"
   ]
  },
  {
   "cell_type": "code",
   "execution_count": 74,
   "metadata": {},
   "outputs": [],
   "source": [
    "np.save('theta.npy',model.get_parameters())\n",
    "\n",
    "np.save('mu.npy',mu)\n",
    "\n",
    "np.save('sigma.npy',std)"
   ]
  },
  {
   "cell_type": "code",
   "execution_count": 75,
   "metadata": {},
   "outputs": [],
   "source": [
    "theta = np.load('theta.npy')\n",
    "mu = np.load('mu.npy')\n",
    "std = np.load('sigma.npy')"
   ]
  },
  {
   "cell_type": "code",
   "execution_count": 76,
   "metadata": {},
   "outputs": [],
   "source": [
    "import pandas as pd"
   ]
  },
  {
   "cell_type": "code",
   "execution_count": 77,
   "metadata": {},
   "outputs": [
    {
     "data": {
      "text/html": [
       "<div>\n",
       "<style scoped>\n",
       "    .dataframe tbody tr th:only-of-type {\n",
       "        vertical-align: middle;\n",
       "    }\n",
       "\n",
       "    .dataframe tbody tr th {\n",
       "        vertical-align: top;\n",
       "    }\n",
       "\n",
       "    .dataframe thead th {\n",
       "        text-align: right;\n",
       "    }\n",
       "</style>\n",
       "<table border=\"1\" class=\"dataframe\">\n",
       "  <thead>\n",
       "    <tr style=\"text-align: right;\">\n",
       "      <th></th>\n",
       "      <th>2</th>\n",
       "      <th>3</th>\n",
       "      <th>4</th>\n",
       "      <th>5</th>\n",
       "      <th>6</th>\n",
       "      <th>7</th>\n",
       "      <th>8</th>\n",
       "      <th>9</th>\n",
       "      <th>10</th>\n",
       "    </tr>\n",
       "  </thead>\n",
       "  <tbody>\n",
       "    <tr>\n",
       "      <th>0</th>\n",
       "      <td>21</td>\n",
       "      <td>21</td>\n",
       "      <td>20</td>\n",
       "      <td>20</td>\n",
       "      <td>19</td>\n",
       "      <td>19</td>\n",
       "      <td>19</td>\n",
       "      <td>18</td>\n",
       "      <td>17</td>\n",
       "    </tr>\n",
       "    <tr>\n",
       "      <th>1</th>\n",
       "      <td>1.7</td>\n",
       "      <td>1.7</td>\n",
       "      <td>1.7</td>\n",
       "      <td>1.7</td>\n",
       "      <td>1.7</td>\n",
       "      <td>1.7</td>\n",
       "      <td>1.7</td>\n",
       "      <td>1.7</td>\n",
       "      <td>1.8</td>\n",
       "    </tr>\n",
       "    <tr>\n",
       "      <th>2</th>\n",
       "      <td>0.39</td>\n",
       "      <td>0.36</td>\n",
       "      <td>0.36</td>\n",
       "      <td>0.4</td>\n",
       "      <td>0.53</td>\n",
       "      <td>0.55</td>\n",
       "      <td>0.34</td>\n",
       "      <td>0.31</td>\n",
       "      <td>0.23</td>\n",
       "    </tr>\n",
       "    <tr>\n",
       "      <th>3</th>\n",
       "      <td>0.16</td>\n",
       "      <td>0.24</td>\n",
       "      <td>0.22</td>\n",
       "      <td>0.27</td>\n",
       "      <td>0.27</td>\n",
       "      <td>0.26</td>\n",
       "      <td>0.27</td>\n",
       "      <td>0.29</td>\n",
       "      <td>0.1</td>\n",
       "    </tr>\n",
       "    <tr>\n",
       "      <th>4</th>\n",
       "      <td>1.3</td>\n",
       "      <td>1.3</td>\n",
       "      <td>1.3</td>\n",
       "      <td>1.3</td>\n",
       "      <td>1.4</td>\n",
       "      <td>1.6</td>\n",
       "      <td>1.2</td>\n",
       "      <td>1.1</td>\n",
       "      <td>0.9</td>\n",
       "    </tr>\n",
       "    <tr>\n",
       "      <th>5</th>\n",
       "      <td>17</td>\n",
       "      <td>14</td>\n",
       "      <td>13</td>\n",
       "      <td>14</td>\n",
       "      <td>18</td>\n",
       "      <td>21</td>\n",
       "      <td>8.9</td>\n",
       "      <td>9.4</td>\n",
       "      <td>5</td>\n",
       "    </tr>\n",
       "    <tr>\n",
       "      <th>6</th>\n",
       "      <td>18</td>\n",
       "      <td>16</td>\n",
       "      <td>14</td>\n",
       "      <td>15</td>\n",
       "      <td>20</td>\n",
       "      <td>23</td>\n",
       "      <td>10</td>\n",
       "      <td>10</td>\n",
       "      <td>5.8</td>\n",
       "    </tr>\n",
       "    <tr>\n",
       "      <th>7</th>\n",
       "      <td>32</td>\n",
       "      <td>31</td>\n",
       "      <td>31</td>\n",
       "      <td>26</td>\n",
       "      <td>16</td>\n",
       "      <td>12</td>\n",
       "      <td>27</td>\n",
       "      <td>20</td>\n",
       "      <td>26</td>\n",
       "    </tr>\n",
       "    <tr>\n",
       "      <th>8</th>\n",
       "      <td>62</td>\n",
       "      <td>50</td>\n",
       "      <td>44</td>\n",
       "      <td>39</td>\n",
       "      <td>38</td>\n",
       "      <td>32</td>\n",
       "      <td>48</td>\n",
       "      <td>36</td>\n",
       "      <td>25</td>\n",
       "    </tr>\n",
       "    <tr>\n",
       "      <th>9</th>\n",
       "      <td>33</td>\n",
       "      <td>39</td>\n",
       "      <td>39</td>\n",
       "      <td>25</td>\n",
       "      <td>18</td>\n",
       "      <td>18</td>\n",
       "      <td>17</td>\n",
       "      <td>9</td>\n",
       "      <td>4</td>\n",
       "    </tr>\n",
       "    <tr>\n",
       "      <th>10</th>\n",
       "      <td>0</td>\n",
       "      <td>0</td>\n",
       "      <td>0</td>\n",
       "      <td>0</td>\n",
       "      <td>0</td>\n",
       "      <td>0</td>\n",
       "      <td>0</td>\n",
       "      <td>0</td>\n",
       "      <td>0</td>\n",
       "    </tr>\n",
       "    <tr>\n",
       "      <th>11</th>\n",
       "      <td>83</td>\n",
       "      <td>85</td>\n",
       "      <td>87</td>\n",
       "      <td>87</td>\n",
       "      <td>86</td>\n",
       "      <td>85</td>\n",
       "      <td>78</td>\n",
       "      <td>81</td>\n",
       "      <td>80</td>\n",
       "    </tr>\n",
       "    <tr>\n",
       "      <th>12</th>\n",
       "      <td>2</td>\n",
       "      <td>1.8</td>\n",
       "      <td>1.8</td>\n",
       "      <td>1.8</td>\n",
       "      <td>2.1</td>\n",
       "      <td>2.6</td>\n",
       "      <td>2</td>\n",
       "      <td>2.3</td>\n",
       "      <td>2.4</td>\n",
       "    </tr>\n",
       "    <tr>\n",
       "      <th>13</th>\n",
       "      <td>1.8</td>\n",
       "      <td>1.9</td>\n",
       "      <td>1.9</td>\n",
       "      <td>2</td>\n",
       "      <td>2</td>\n",
       "      <td>2</td>\n",
       "      <td>2</td>\n",
       "      <td>2</td>\n",
       "      <td>1.9</td>\n",
       "    </tr>\n",
       "    <tr>\n",
       "      <th>14</th>\n",
       "      <td>58</td>\n",
       "      <td>53</td>\n",
       "      <td>67</td>\n",
       "      <td>59</td>\n",
       "      <td>59</td>\n",
       "      <td>73</td>\n",
       "      <td>79</td>\n",
       "      <td>82</td>\n",
       "      <td>104</td>\n",
       "    </tr>\n",
       "    <tr>\n",
       "      <th>15</th>\n",
       "      <td>57</td>\n",
       "      <td>44</td>\n",
       "      <td>73</td>\n",
       "      <td>44</td>\n",
       "      <td>56</td>\n",
       "      <td>115</td>\n",
       "      <td>45</td>\n",
       "      <td>107</td>\n",
       "      <td>103</td>\n",
       "    </tr>\n",
       "    <tr>\n",
       "      <th>16</th>\n",
       "      <td>1.4</td>\n",
       "      <td>1.3</td>\n",
       "      <td>1.5</td>\n",
       "      <td>1.4</td>\n",
       "      <td>1.6</td>\n",
       "      <td>1.6</td>\n",
       "      <td>1.2</td>\n",
       "      <td>1.8</td>\n",
       "      <td>2.3</td>\n",
       "    </tr>\n",
       "    <tr>\n",
       "      <th>17</th>\n",
       "      <td>1</td>\n",
       "      <td>0.9</td>\n",
       "      <td>0.9</td>\n",
       "      <td>0.9</td>\n",
       "      <td>1.2</td>\n",
       "      <td>0.7</td>\n",
       "      <td>1</td>\n",
       "      <td>0.6</td>\n",
       "      <td>1.8</td>\n",
       "    </tr>\n",
       "  </tbody>\n",
       "</table>\n",
       "</div>"
      ],
      "text/plain": [
       "      2     3     4     5     6     7     8     9     10\n",
       "0     21    21    20    20    19    19    19    18    17\n",
       "1    1.7   1.7   1.7   1.7   1.7   1.7   1.7   1.7   1.8\n",
       "2   0.39  0.36  0.36   0.4  0.53  0.55  0.34  0.31  0.23\n",
       "3   0.16  0.24  0.22  0.27  0.27  0.26  0.27  0.29   0.1\n",
       "4    1.3   1.3   1.3   1.3   1.4   1.6   1.2   1.1   0.9\n",
       "5     17    14    13    14    18    21   8.9   9.4     5\n",
       "6     18    16    14    15    20    23    10    10   5.8\n",
       "7     32    31    31    26    16    12    27    20    26\n",
       "8     62    50    44    39    38    32    48    36    25\n",
       "9     33    39    39    25    18    18    17     9     4\n",
       "10     0     0     0     0     0     0     0     0     0\n",
       "11    83    85    87    87    86    85    78    81    80\n",
       "12     2   1.8   1.8   1.8   2.1   2.6     2   2.3   2.4\n",
       "13   1.8   1.9   1.9     2     2     2     2     2   1.9\n",
       "14    58    53    67    59    59    73    79    82   104\n",
       "15    57    44    73    44    56   115    45   107   103\n",
       "16   1.4   1.3   1.5   1.4   1.6   1.6   1.2   1.8   2.3\n",
       "17     1   0.9   0.9   0.9   1.2   0.7     1   0.6   1.8"
      ]
     },
     "execution_count": 77,
     "metadata": {},
     "output_type": "execute_result"
    }
   ],
   "source": [
    "df = pd.read_csv('test.csv',header=None)\n",
    "df[df=='NR'] = 0\n",
    "df.drop([0,1],axis=1,inplace=True)\n",
    "df.head(18)"
   ]
  },
  {
   "cell_type": "code",
   "execution_count": 78,
   "metadata": {},
   "outputs": [],
   "source": [
    "test_data = np.array(df)"
   ]
  },
  {
   "cell_type": "code",
   "execution_count": 79,
   "metadata": {},
   "outputs": [],
   "source": [
    "test_data = test_data.astype(np.float32).reshape(240,-1)"
   ]
  },
  {
   "cell_type": "code",
   "execution_count": 80,
   "metadata": {},
   "outputs": [],
   "source": [
    "test_data = np.concatenate((test_data,(test_data**2),(test_data**3)),axis=1)"
   ]
  },
  {
   "cell_type": "code",
   "execution_count": 81,
   "metadata": {},
   "outputs": [],
   "source": [
    "test_data = (test_data-mu)/std"
   ]
  },
  {
   "cell_type": "code",
   "execution_count": 82,
   "metadata": {},
   "outputs": [],
   "source": [
    "test_data = np.concatenate((np.ones((240,1),dtype=np.float32),test_data),axis=1)"
   ]
  },
  {
   "cell_type": "code",
   "execution_count": 83,
   "metadata": {},
   "outputs": [],
   "source": [
    "p = test_data@theta"
   ]
  },
  {
   "cell_type": "code",
   "execution_count": 84,
   "metadata": {},
   "outputs": [],
   "source": [
    "out_df = pd.DataFrame({'id':[f'id_{i}' for i in range(240)],'value':p.flatten()})"
   ]
  },
  {
   "cell_type": "code",
   "execution_count": 85,
   "metadata": {},
   "outputs": [],
   "source": [
    "out_df.to_csv('result.csv',index=False)"
   ]
  },
  {
   "cell_type": "code",
   "execution_count": null,
   "metadata": {},
   "outputs": [],
   "source": []
  }
 ],
 "metadata": {
  "kernelspec": {
   "display_name": "Python 3",
   "language": "python",
   "name": "python3"
  },
  "language_info": {
   "codemirror_mode": {
    "name": "ipython",
    "version": 3
   },
   "file_extension": ".py",
   "mimetype": "text/x-python",
   "name": "python",
   "nbconvert_exporter": "python",
   "pygments_lexer": "ipython3",
   "version": "3.6.9"
  }
 },
 "nbformat": 4,
 "nbformat_minor": 4
}
