{
 "cells": [
  {
   "cell_type": "code",
   "execution_count": 1,
   "metadata": {},
   "outputs": [],
   "source": [
    "from DataReader import DataReader\n",
    "\n",
    "dr = DataReader(hours=9)\n",
    "X,y = dr.data()"
   ]
  },
  {
   "cell_type": "code",
   "execution_count": 2,
   "metadata": {},
   "outputs": [],
   "source": [
    "import numpy as np"
   ]
  },
  {
   "cell_type": "code",
   "execution_count": 3,
   "metadata": {},
   "outputs": [],
   "source": [
    "X = np.concatenate((X,(X**2),(X**3)),axis=1)"
   ]
  },
  {
   "cell_type": "code",
   "execution_count": 4,
   "metadata": {},
   "outputs": [],
   "source": [
    "def normal(X):\n",
    "    mu = X.mean(axis=0)\n",
    "    std = X.std(axis=0)\n",
    "    X_norm = (X-mu)/std\n",
    "    return X_norm,mu,std"
   ]
  },
  {
   "cell_type": "code",
   "execution_count": 5,
   "metadata": {},
   "outputs": [],
   "source": [
    "X_norm,mu,std = normal(X)"
   ]
  },
  {
   "cell_type": "code",
   "execution_count": 6,
   "metadata": {},
   "outputs": [],
   "source": [
    "import torch\n",
    "import torch.nn as nn"
   ]
  },
  {
   "cell_type": "code",
   "execution_count": 7,
   "metadata": {},
   "outputs": [],
   "source": [
    "X_norm = torch.from_numpy(X_norm.astype(np.float32))\n",
    "y = torch.from_numpy(y.astype(np.float32))"
   ]
  },
  {
   "cell_type": "code",
   "execution_count": 8,
   "metadata": {},
   "outputs": [],
   "source": [
    "class LinearRegressionModel(nn.Module):\n",
    "    \n",
    "    def __init__(self,n_features):\n",
    "        super(LinearRegressionModel,self).__init__()\n",
    "        self.Lin = nn.Linear(in_features=n_features,out_features=1,bias=True)\n",
    "    \n",
    "    def forward(self,X):\n",
    "        return self.Lin(X)"
   ]
  },
  {
   "cell_type": "code",
   "execution_count": 9,
   "metadata": {},
   "outputs": [
    {
     "name": "stdout",
     "output_type": "stream",
     "text": [
      "epoch:1000 loss:32.570518493652344\n",
      "epoch:2000 loss:31.191892623901367\n",
      "epoch:3000 loss:30.631927490234375\n",
      "epoch:4000 loss:30.32679557800293\n",
      "epoch:5000 loss:30.139019012451172\n",
      "epoch:6000 loss:30.013607025146484\n",
      "epoch:7000 loss:29.92399787902832\n",
      "epoch:8000 loss:29.856094360351562\n",
      "epoch:9000 loss:29.802043914794922\n",
      "epoch:10000 loss:29.757253646850586\n",
      "\n",
      "last train loss:29.757253646850586\n"
     ]
    }
   ],
   "source": [
    "model = LinearRegressionModel(X.shape[1])\n",
    "\n",
    "epoches = 10000\n",
    "lr = 0.01\n",
    "\n",
    "# optimizer = torch.optim.SGD(model.parameters(),lr=lr,weight_decay=0.05)\n",
    "optimizer = torch.optim.SGD(model.parameters(),lr=lr)\n",
    "criterion = nn.MSELoss()\n",
    "\n",
    "train_loss_history = []\n",
    "# test_loss_history = []\n",
    "\n",
    "for epoch in range(epoches):\n",
    "    y_pred = model(X_norm)\n",
    "    loss = criterion(y_pred,y)\n",
    "    loss.backward()\n",
    "    optimizer.step()\n",
    "    optimizer.zero_grad()\n",
    "    \n",
    "    train_loss_history.append(loss.detach().item())\n",
    "    \n",
    "#     with torch.no_grad():\n",
    "#         y_pred = model(X_test_norm)\n",
    "#         test_loss = criterion(y_pred,y_test)\n",
    "    \n",
    "#     test_loss_history.append(test_loss.detach().item())\n",
    "        \n",
    "#     if (epoch+1) % 1000 == 0:\n",
    "#         print(f'epoch:{epoch+1} loss:{loss.detach().item()} test loss:{test_loss.detach().item()}')\n",
    "    \n",
    "    if (epoch+1) % 1000 == 0:\n",
    "        print(f'epoch:{epoch+1} loss:{loss.detach().item()}')\n",
    "        \n",
    "# print(f'last train loss:{train_loss_history[-1]}\\n last test loss:{test_loss_history[-1]}')\n",
    "print(f'\\nlast train loss:{train_loss_history[-1]}')"
   ]
  },
  {
   "cell_type": "code",
   "execution_count": 10,
   "metadata": {},
   "outputs": [
    {
     "data": {
      "text/plain": [
       "[<matplotlib.lines.Line2D at 0x7fa71887ad68>]"
      ]
     },
     "execution_count": 10,
     "metadata": {},
     "output_type": "execute_result"
    },
    {
     "data": {
      "image/png": "[encoded data removed]",
      "text/plain": [
       "<Figure size 432x288 with 1 Axes>"
      ]
     },
     "metadata": {
      "needs_background": "light"
     },
     "output_type": "display_data"
    }
   ],
   "source": [
    "import matplotlib.pyplot as plt\n",
    "\n",
    "plt.plot(train_loss_history)\n",
    "# plt.plot(test_loss_history)\n",
    "\n",
    "# plt.legend(['train','test'])"
   ]
  },
  {
   "cell_type": "code",
   "execution_count": 11,
   "metadata": {},
   "outputs": [],
   "source": [
    "\n",
    "import pandas as pd\n",
    "\n",
    "\n",
    "# In[ ]:\n",
    "\n",
    "\n",
    "df = pd.read_csv('test.csv',header=None)\n",
    "df[df=='NR'] = 0\n",
    "df.drop([0,1],axis=1,inplace=True)\n",
    "# df.head(18)\n",
    "\n",
    "\n",
    "# In[ ]:\n",
    "\n",
    "\n",
    "test_data = np.array(df)\n",
    "\n",
    "\n",
    "# In[ ]:\n",
    "\n",
    "\n",
    "test_data = test_data.astype(np.float32).reshape(240,-1)\n",
    "\n",
    "\n",
    "# In[ ]:\n",
    "\n",
    "\n",
    "test_data = np.concatenate((test_data,(test_data**2),(test_data**3)),axis=1)\n",
    "\n",
    "\n",
    "# In[ ]:\n",
    "\n",
    "\n",
    "test_data = (test_data-mu)/std\n",
    "\n"
   ]
  },
  {
   "cell_type": "code",
   "execution_count": 12,
   "metadata": {},
   "outputs": [],
   "source": [
    "test_data = torch.from_numpy(test_data.astype(np.float32))"
   ]
  },
  {
   "cell_type": "code",
   "execution_count": 13,
   "metadata": {},
   "outputs": [],
   "source": [
    "with torch.no_grad():\n",
    "    p = model(test_data)\n",
    "    out_df = pd.DataFrame({'id':[f'id_{i}' for i in range(240)],'value':p.flatten()})\n",
    "    out_df.to_csv('result.csv',index=False)"
   ]
  },
  {
   "cell_type": "code",
   "execution_count": 14,
   "metadata": {},
   "outputs": [],
   "source": [
    "from numpy.linalg import inv\n",
    "def noramlEqn(X,y):\n",
    "    return inv(X.T@X)@X.T@y"
   ]
  },
  {
   "cell_type": "code",
   "execution_count": 22,
   "metadata": {},
   "outputs": [],
   "source": [
    "X_norm_temp = torch.cat((torch.ones(X_norm.shape[0],1),X_norm),dim=1)\n",
    "\n",
    "theta_eqn = noramlEqn(X_norm_temp.detach().numpy(),y.detach().numpy())"
   ]
  },
  {
   "cell_type": "code",
   "execution_count": 31,
   "metadata": {},
   "outputs": [
    {
     "data": {
      "text/plain": [
       "array([[21.374039  ],\n",
       "       [ 0.7165857 ],\n",
       "       [ 0.70124197],\n",
       "       [-0.13438857],\n",
       "       [-0.40580404],\n",
       "       [ 1.023189  ]], dtype=float32)"
      ]
     },
     "execution_count": 31,
     "metadata": {},
     "output_type": "execute_result"
    }
   ],
   "source": [
    "theta_eqn[:6]"
   ]
  },
  {
   "cell_type": "code",
   "execution_count": 29,
   "metadata": {},
   "outputs": [
    {
     "data": {
      "text/plain": [
       "array([ 0.06806119, -0.33122563,  0.47719008, -0.13927437,  0.40113914],\n",
       "      dtype=float32)"
      ]
     },
     "execution_count": 29,
     "metadata": {},
     "output_type": "execute_result"
    }
   ],
   "source": [
    "list(model.parameters())[0].flatten().detach().numpy()[:5]"
   ]
  },
  {
   "cell_type": "code",
   "execution_count": 30,
   "metadata": {},
   "outputs": [
    {
     "data": {
      "text/plain": [
       "array([21.373981], dtype=float32)"
      ]
     },
     "execution_count": 30,
     "metadata": {},
     "output_type": "execute_result"
    }
   ],
   "source": [
    "list(model.parameters())[1].flatten().detach().numpy()"
   ]
  },
  {
   "cell_type": "code",
   "execution_count": 32,
   "metadata": {},
   "outputs": [
    {
     "data": {
      "text/plain": [
       "tensor(28.7907)"
      ]
     },
     "execution_count": 32,
     "metadata": {},
     "output_type": "execute_result"
    }
   ],
   "source": [
    "y_eqn = X_norm_temp@theta_eqn\n",
    "\n",
    "criterion(y_eqn,y)"
   ]
  }
 ],
 "metadata": {
  "kernelspec": {
   "display_name": "Python 3",
   "language": "python",
   "name": "python3"
  },
  "language_info": {
   "codemirror_mode": {
    "name": "ipython",
    "version": 3
   },
   "file_extension": ".py",
   "mimetype": "text/x-python",
   "name": "python",
   "nbconvert_exporter": "python",
   "pygments_lexer": "ipython3",
   "version": "3.6.9"
  }
 },
 "nbformat": 4,
 "nbformat_minor": 4
}
