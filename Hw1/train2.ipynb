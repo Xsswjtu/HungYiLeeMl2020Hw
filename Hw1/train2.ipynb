{
 "cells": [
  {
   "cell_type": "code",
   "execution_count": 2,
   "metadata": {},
   "outputs": [],
   "source": [
    "import numpy as np\n",
    "import pandas as pd\n",
    "import matplotlib.pyplot as plt\n",
    "from sklearn.model_selection import train_test_split\n",
    "import seaborn as sns"
   ]
  },
  {
   "cell_type": "markdown",
   "metadata": {},
   "source": [
    "functions define"
   ]
  },
  {
   "cell_type": "code",
   "execution_count": 193,
   "metadata": {},
   "outputs": [],
   "source": [
    "def get_data_dict(data):\n",
    "    data_dict = {}\n",
    "    for m in range(12):\n",
    "        row = m*18*20\n",
    "        temp = data.iloc[row:row+18]\n",
    "        for d in range(1,20):\n",
    "            row += 18\n",
    "            temp = pd.concat([temp,data.iloc[row:row+18]],axis=1)\n",
    "        temp.set_axis(range(24*20),axis=1,inplace=True)\n",
    "        data_dict[m] = temp\n",
    "    return data_dict\n",
    "\n",
    "def getMonthTrainData(month,hours,features):\n",
    "    label = month.loc['PM2.5',hours:]\n",
    "    X = np.empty((480-hours,len(features)*hours))\n",
    "    for i in range(480-hours):\n",
    "        X[i,:] = month.loc[features,i:i+hours-1].values.flatten()\n",
    "    return X,label.values.astype(np.float)\n",
    "\n",
    "def getYearTrainData(dict,hours,features):\n",
    "    X,y = getMonthTrainData(dict[0],hours,features)\n",
    "    for m in range(1,12):\n",
    "        temp_X,temp_y = getMonthTrainData(dict[m],hours,features)\n",
    "        X = np.concatenate((X,temp_X),axis=0)\n",
    "        y = np.concatenate((y,temp_y),axis=0)\n",
    "    return X,y.reshape(y.shape[0],-1)\n",
    "\n",
    "def normal(X):\n",
    "    mu = X.mean(axis=0)\n",
    "    sigma = X.std(axis=0)\n",
    "    return (X-mu)/sigma,mu,sigma\n",
    "\n",
    "def loss_fun(theta,X,y,lbd=0):\n",
    "    m = y.shape[0]\n",
    "    theta_1 = theta.copy()\n",
    "    theta_1[0] = 0\n",
    "    X = np.concatenate((np.ones((m,1),dtype=np.float),X),axis=1)\n",
    "    y_pred = X@theta\n",
    "    temp = y_pred - y\n",
    "    loss = temp.T@temp/m/2 + lbd/2/m*theta_1.T@theta_1\n",
    "    grad = X.T@temp/m + lbd/m*theta_1\n",
    "    return loss.item(),grad\n",
    "\n",
    "def gradDecent(init_theta,X_train,y_train,X_test=[],y_test=[],lr=0.01,iteration=1000,lbd=0):\n",
    "    theta = init_theta.copy()\n",
    "    loss,grad = loss_fun(theta,X_train,y_train,lbd=lbd)\n",
    "    \n",
    "    if len(X_test)!=0:\n",
    "        loss_val,_ = loss_fun(theta,X_test,y_test,lbd=0)\n",
    "    loss_history = []\n",
    "    loss_val_history = []\n",
    "    sum_grad_sqrt = 0\n",
    "    for i in range(iteration):\n",
    "        loss_history.append(loss)\n",
    "        if len(X_test)!=0:\n",
    "            loss_val_history.append(loss_val)\n",
    "        sum_grad_sqrt += grad**2\n",
    "        theta = theta - lr*grad/np.sqrt(sum_grad_sqrt)\n",
    "        theta = theta - lr*grad\n",
    "        loss,grad = loss_fun(theta,X_train,y_train,lbd=lbd)\n",
    "        if len(X_test)!=0:\n",
    "            loss_val,_ = loss_fun(theta,X_test,y_test,lbd=0)\n",
    "    return theta,loss_history,loss_val_history"
   ]
  },
  {
   "cell_type": "markdown",
   "metadata": {},
   "source": [
    "读取训练数据"
   ]
  },
  {
   "cell_type": "code",
   "execution_count": 4,
   "metadata": {},
   "outputs": [],
   "source": [
    "data = pd.read_csv('train.csv',engine='python')\n",
    "\n",
    "data.columns = ['Date', 'Place', 'Test', '0', '1', '2', '3', '4', '5', '6', '7', '8',\n",
    "       '9', '10', '11', '12', '13', '14', '15', '16', '17', '18', '19', '20',\n",
    "       '21', '22', '23']\n",
    "\n",
    "data.drop(['Date','Place'],axis='columns',inplace=True)\n",
    "\n",
    "data.set_index('Test',inplace=True)\n",
    "\n",
    "data[data=='NR'] = 0\n",
    "\n",
    "data = data.astype(np.float32)\n",
    "\n",
    "data_dict = get_data_dict(data)\n"
   ]
  },
  {
   "cell_type": "code",
   "execution_count": 24,
   "metadata": {},
   "outputs": [],
   "source": [
    "month1 = data_dict[0]\n",
    "\n",
    "pm25 = np.array(month1.loc['PM2.5'])"
   ]
  },
  {
   "cell_type": "markdown",
   "metadata": {},
   "source": [
    "从下图可以看出，PM2.5现在的值和之前的值之间存在明显的线性关系，所以我们可以通过历史值来预测PM2.5"
   ]
  },
  {
   "cell_type": "code",
   "execution_count": 22,
   "metadata": {
    "scrolled": true
   },
   "outputs": [
    {
     "data": {
      "text/plain": [
       "<matplotlib.collections.PathCollection at 0x7ff330667f60>"
      ]
     },
     "execution_count": 22,
     "metadata": {},
     "output_type": "execute_result"
    },
    {
     "data": {
      "image/png": "[encoded data removed]",
      "text/plain": [
       "<Figure size 432x288 with 1 Axes>"
      ]
     },
     "metadata": {
      "needs_background": "light"
     },
     "output_type": "display_data"
    }
   ],
   "source": [
    "plt.scatter(pm25[:-1],pm25[1:])"
   ]
  },
  {
   "cell_type": "code",
   "execution_count": 76,
   "metadata": {},
   "outputs": [],
   "source": [
    "lr = 0.1\n",
    "iteration = 1000\n",
    "best_train_loss,best_test_loss = (0,0)\n",
    "last_hours = 0\n",
    "last_features = []"
   ]
  },
  {
   "cell_type": "code",
   "execution_count": 45,
   "metadata": {},
   "outputs": [
    {
     "name": "stdout",
     "output_type": "stream",
     "text": [
      "hours from 0 to 1\n",
      "features from [] to ['PM2.5']\n",
      "train_loss from 0 to 21.48371425912089, test_loss from 0 to 24.577033658605558\n"
     ]
    },
    {
     "data": {
      "text/plain": [
       "<matplotlib.legend.Legend at 0x7ff33040cef0>"
      ]
     },
     "execution_count": 45,
     "metadata": {},
     "output_type": "execute_result"
    },
    {
     "data": {
      "image/png": "[encoded data removed]",
      "text/plain": [
       "<Figure size 432x288 with 1 Axes>"
      ]
     },
     "metadata": {
      "needs_background": "light"
     },
     "output_type": "display_data"
    }
   ],
   "source": [
    "hours = 1\n",
    "# features = ['AMB_TEMP', 'CH4', 'CO', 'NMHC', 'NO', 'NO2', 'NOx', 'O3', 'PM10',\n",
    "#        'PM2.5', 'RAINFALL', 'RH', 'SO2', 'THC', 'WD_HR', 'WIND_DIREC',\n",
    "#        'WIND_SPEED', 'WS_HR']\n",
    "features = ['PM2.5']\n",
    "\n",
    "X,y = getYearTrainData(data_dict,hours,features)\n",
    "\n",
    "X_train,X_test,y_train,y_test = train_test_split(X, y, test_size=0.33, random_state=42)\n",
    "\n",
    "X_train_norm,mu,sigma = normal(X_train)\n",
    "\n",
    "X_test_norm = (X_test-mu)/sigma\n",
    "\n",
    "m,n = X_train_norm.shape\n",
    "init_theta = np.zeros((n+1,1))\n",
    "\n",
    "theta,loss_history,loss_val_history = gradDecent(init_theta,X_train_norm,y_train,X_test_norm,y_test,lr,iteration)\n",
    "\n",
    "last_loss,_ = loss_fun(theta,X_train_norm,y_train)\n",
    "last_loss_val,_ = loss_fun(theta,X_test_norm,y_test)\n",
    "\n",
    "print(f'hours from {last_hours} to {hours}')\n",
    "print(f'features from {last_features} to {features}')\n",
    "print(f'train_loss from {best_train_loss} to {last_loss}, test_loss from {best_test_loss} to {last_loss_val}')\n",
    "\n",
    "best_train_loss,best_test_loss = (last_loss,last_loss_val)\n",
    "last_hours = hours\n",
    "last_features = features.copy()\n",
    "      \n",
    "plt.plot(range(iteration),loss_history,range(iteration),loss_val_history)\n",
    "plt.legend(['train','test'])"
   ]
  },
  {
   "cell_type": "markdown",
   "metadata": {},
   "source": [
    "使用前9个小时的PM2.5值来试试效果"
   ]
  },
  {
   "cell_type": "code",
   "execution_count": 46,
   "metadata": {},
   "outputs": [
    {
     "name": "stdout",
     "output_type": "stream",
     "text": [
      "hours from 1 to 9\n",
      "features from ['PM2.5'] to ['PM2.5']\n",
      "train_loss from 21.48371425912089 to 17.834221683170913, test_loss from 24.577033658605558 to 20.89297334830712\n"
     ]
    },
    {
     "data": {
      "text/plain": [
       "<matplotlib.legend.Legend at 0x7ff33040a780>"
      ]
     },
     "execution_count": 46,
     "metadata": {},
     "output_type": "execute_result"
    },
    {
     "data": {
      "image/png": "[encoded data removed]",
      "text/plain": [
       "<Figure size 432x288 with 1 Axes>"
      ]
     },
     "metadata": {
      "needs_background": "light"
     },
     "output_type": "display_data"
    }
   ],
   "source": [
    "hours = 9\n",
    "# features = ['AMB_TEMP', 'CH4', 'CO', 'NMHC', 'NO', 'NO2', 'NOx', 'O3', 'PM10',\n",
    "#        'PM2.5', 'RAINFALL', 'RH', 'SO2', 'THC', 'WD_HR', 'WIND_DIREC',\n",
    "#        'WIND_SPEED', 'WS_HR']\n",
    "features = ['PM2.5']\n",
    "\n",
    "X,y = getYearTrainData(data_dict,hours,features)\n",
    "\n",
    "X_train,X_test,y_train,y_test = train_test_split(X, y, test_size=0.33, random_state=42)\n",
    "\n",
    "X_train_norm,mu,sigma = normal(X_train)\n",
    "\n",
    "X_test_norm = (X_test-mu)/sigma\n",
    "\n",
    "m,n = X_train_norm.shape\n",
    "init_theta = np.zeros((n+1,1))\n",
    "\n",
    "theta,loss_history,loss_val_history = gradDecent(init_theta,X_train_norm,y_train,X_test_norm,y_test,lr,iteration)\n",
    "last_loss,_ = loss_fun(theta,X_train_norm,y_train)\n",
    "last_loss_val,_ = loss_fun(theta,X_test_norm,y_test)\n",
    "\n",
    "\n",
    "print(f'hours from {last_hours} to {hours}')\n",
    "print(f'features from {last_features} to {features}')\n",
    "print(f'train_loss from {best_train_loss} to {last_loss}, test_loss from {best_test_loss} to {last_loss_val}')\n",
    "\n",
    "best_train_loss,best_test_loss = (last_loss,last_loss_val)\n",
    "last_hours = hours\n",
    "last_features = features.copy()\n",
    "      \n",
    "plt.plot(range(iteration),loss_history,range(iteration),loss_val_history)\n",
    "plt.legend(['train','test'])"
   ]
  },
  {
   "cell_type": "markdown",
   "metadata": {},
   "source": [
    "可以看到，当PM2.5历史值增加到9个时，MSE在train set上从21.5下降到17.8，在test set上从24.6下降到20.9，性能提高了不少。\n",
    "\n",
    "但是不是历史值越多越好呢？我来试试5个历史值的情况。"
   ]
  },
  {
   "cell_type": "code",
   "execution_count": 47,
   "metadata": {
    "scrolled": true
   },
   "outputs": [
    {
     "name": "stdout",
     "output_type": "stream",
     "text": [
      "hours from 9 to 5\n",
      "features from ['PM2.5'] to ['PM2.5']\n",
      "train_loss from 17.834221683170913 to 19.231304173143204, test_loss from 20.89297334830712 to 19.35420013260805\n"
     ]
    },
    {
     "data": {
      "text/plain": [
       "<matplotlib.legend.Legend at 0x7ff3305486a0>"
      ]
     },
     "execution_count": 47,
     "metadata": {},
     "output_type": "execute_result"
    },
    {
     "data": {
      "image/png": "[encoded data removed]",
      "text/plain": [
       "<Figure size 432x288 with 1 Axes>"
      ]
     },
     "metadata": {
      "needs_background": "light"
     },
     "output_type": "display_data"
    }
   ],
   "source": [
    "hours = 5\n",
    "# features = ['AMB_TEMP', 'CH4', 'CO', 'NMHC', 'NO', 'NO2', 'NOx', 'O3', 'PM10',\n",
    "#        'PM2.5', 'RAINFALL', 'RH', 'SO2', 'THC', 'WD_HR', 'WIND_DIREC',\n",
    "#        'WIND_SPEED', 'WS_HR']\n",
    "features = ['PM2.5']\n",
    "\n",
    "X,y = getYearTrainData(data_dict,hours,features)\n",
    "\n",
    "X_train,X_test,y_train,y_test = train_test_split(X, y, test_size=0.33, random_state=42)\n",
    "\n",
    "X_train_norm,mu,sigma = normal(X_train)\n",
    "\n",
    "X_test_norm = (X_test-mu)/sigma\n",
    "\n",
    "m,n = X_train_norm.shape\n",
    "init_theta = np.zeros((n+1,1))\n",
    "\n",
    "theta,loss_history,loss_val_history = gradDecent(init_theta,X_train_norm,y_train,X_test_norm,y_test,lr,iteration)\n",
    "last_loss,_ = loss_fun(theta,X_train_norm,y_train)\n",
    "last_loss_val,_ = loss_fun(theta,X_test_norm,y_test)\n",
    "\n",
    "\n",
    "print(f'hours from {last_hours} to {hours}')\n",
    "print(f'features from {last_features} to {features}')\n",
    "print(f'train_loss from {best_train_loss} to {last_loss}, test_loss from {best_test_loss} to {last_loss_val}')\n",
    "\n",
    "best_train_loss,best_test_loss = (last_loss,last_loss_val)\n",
    "last_hours = hours\n",
    "last_features = features.copy()\n",
    "      \n",
    "plt.plot(range(iteration),loss_history,range(iteration),loss_val_history)\n",
    "plt.legend(['train','test'])"
   ]
  },
  {
   "cell_type": "markdown",
   "metadata": {},
   "source": [
    "可以看到，当PM2.5历史值从9个减少到5个时，MSE在train set上从17.8提高到19.2，但在test set上却从20.9下降到19.4，性能提高了。\n",
    "\n",
    "看来历史值也不是越多越好啊。"
   ]
  },
  {
   "cell_type": "markdown",
   "metadata": {},
   "source": [
    "我再看看PM2.5的分布"
   ]
  },
  {
   "cell_type": "code",
   "execution_count": 53,
   "metadata": {
    "scrolled": true
   },
   "outputs": [
    {
     "data": {
      "text/plain": [
       "[<matplotlib.lines.Line2D at 0x7ff3302ace48>]"
      ]
     },
     "execution_count": 53,
     "metadata": {},
     "output_type": "execute_result"
    },
    {
     "data": {
      "image/png": "[encoded data removed]",
      "text/plain": [
       "<Figure size 432x288 with 1 Axes>"
      ]
     },
     "metadata": {
      "needs_background": "light"
     },
     "output_type": "display_data"
    }
   ],
   "source": [
    "plt.plot(range(pm25.shape[0]),pm25)"
   ]
  },
  {
   "cell_type": "code",
   "execution_count": 96,
   "metadata": {
    "scrolled": false
   },
   "outputs": [
    {
     "name": "stdout",
     "output_type": "stream",
     "text": [
      "hours from 7 to 5\n",
      "features from ['AMB_TEMP', 'CH4', 'CO', 'NMHC', 'NO', 'NO2', 'NOx', 'O3', 'PM10', 'PM2.5', 'RH', 'SO2', 'WD_HR', 'WS_HR'] to ['AMB_TEMP', 'CH4', 'CO', 'NMHC', 'NO', 'NO2', 'NOx', 'O3', 'PM10', 'PM2.5', 'RH', 'SO2', 'WD_HR', 'WS_HR']\n",
      "train_loss from 16.50825128794379 to 17.16684716784286, test_loss from 18.301928555782077 to 17.733781850937948\n"
     ]
    },
    {
     "data": {
      "text/plain": [
       "<matplotlib.legend.Legend at 0x7ff32adff240>"
      ]
     },
     "execution_count": 96,
     "metadata": {},
     "output_type": "execute_result"
    },
    {
     "data": {
      "image/png": "[encoded data removed]",
      "text/plain": [
       "<Figure size 432x288 with 1 Axes>"
      ]
     },
     "metadata": {
      "needs_background": "light"
     },
     "output_type": "display_data"
    }
   ],
   "source": [
    "lr = 0.03\n",
    "\n",
    "hours = 5\n",
    "features = ['AMB_TEMP', 'CH4', 'CO', 'NMHC', 'NO', 'NO2', 'NOx', 'O3', 'PM10',\n",
    "       'PM2.5',  'RH', 'SO2', 'WD_HR', \n",
    "       'WS_HR']\n",
    "# features = ['AMB_TEMP', 'NO2','O3','PM10','PM2.5', 'SO2']\n",
    "\n",
    "X,y = getYearTrainData(data_dict,hours,features)\n",
    "\n",
    "X_train,X_test,y_train,y_test = train_test_split(X, y, test_size=0.33, random_state=42)\n",
    "\n",
    "X_train_norm,mu,sigma = normal(X_train)\n",
    "\n",
    "X_test_norm = (X_test-mu)/sigma\n",
    "\n",
    "m,n = X_train_norm.shape\n",
    "init_theta = np.zeros((n+1,1))\n",
    "\n",
    "theta,loss_history,loss_val_history = gradDecent(init_theta,X_train_norm,y_train,X_test_norm,y_test,lr,iteration)\n",
    "last_loss,_ = loss_fun(theta,X_train_norm,y_train)\n",
    "last_loss_val,_ = loss_fun(theta,X_test_norm,y_test)\n",
    "\n",
    "\n",
    "print(f'hours from {last_hours} to {hours}')\n",
    "print(f'features from {last_features} to {features}')\n",
    "print(f'train_loss from {best_train_loss} to {last_loss}, test_loss from {best_test_loss} to {last_loss_val}')\n",
    "\n",
    "best_train_loss,best_test_loss = (last_loss,last_loss_val)\n",
    "last_hours = hours\n",
    "last_features = features.copy()\n",
    "      \n",
    "plt.plot(range(iteration),loss_history,range(iteration),loss_val_history)\n",
    "plt.legend(['train','test'])"
   ]
  },
  {
   "cell_type": "markdown",
   "metadata": {},
   "source": [
    "用所有数据训练下"
   ]
  },
  {
   "cell_type": "code",
   "execution_count": 194,
   "metadata": {},
   "outputs": [],
   "source": [
    "lr = 0.03\n",
    "\n",
    "hours = 9\n",
    "# features = ['AMB_TEMP', 'CH4', 'CO', 'NMHC', 'NO', 'NO2', 'NOx', 'O3', 'PM10',\n",
    "#        'PM2.5',  'RH', 'SO2', 'WD_HR', \n",
    "#        'WS_HR']\n",
    "features = ['AMB_TEMP', 'CH4', 'CO', 'NMHC', 'NO', 'NO2', 'NOx', 'O3', 'PM10',\n",
    "       'PM2.5', 'RAINFALL', 'RH', 'SO2', 'THC', 'WD_HR', 'WIND_DIREC',\n",
    "       'WIND_SPEED', 'WS_HR']\n",
    "\n",
    "X,y = getYearTrainData(data_dict,hours,features)\n",
    "\n",
    "X_train_norm,mu,sigma = normal(X)\n",
    "\n",
    "m,n = X_train_norm.shape\n",
    "init_theta = np.zeros((n+1,1))\n",
    "\n",
    "theta,loss_history,loss_val_history = gradDecent(init_theta,X_train_norm,y,\n",
    "                                                 X_test=[],y_test=[],lr=lr,iteration=iteration)"
   ]
  },
  {
   "cell_type": "code",
   "execution_count": 195,
   "metadata": {},
   "outputs": [
    {
     "data": {
      "text/plain": [
       "[<matplotlib.lines.Line2D at 0x7ff328491630>]"
      ]
     },
     "execution_count": 195,
     "metadata": {},
     "output_type": "execute_result"
    },
    {
     "data": {
      "image/png": "[encoded data removed]",
      "text/plain": [
       "<Figure size 432x288 with 1 Axes>"
      ]
     },
     "metadata": {
      "needs_background": "light"
     },
     "output_type": "display_data"
    }
   ],
   "source": [
    "plt.plot(loss_history)"
   ]
  },
  {
   "cell_type": "markdown",
   "metadata": {},
   "source": [
    "预测"
   ]
  },
  {
   "cell_type": "code",
   "execution_count": 196,
   "metadata": {},
   "outputs": [
    {
     "data": {
      "text/html": [
       "<div>\n",
       "<style scoped>\n",
       "    .dataframe tbody tr th:only-of-type {\n",
       "        vertical-align: middle;\n",
       "    }\n",
       "\n",
       "    .dataframe tbody tr th {\n",
       "        vertical-align: top;\n",
       "    }\n",
       "\n",
       "    .dataframe thead th {\n",
       "        text-align: right;\n",
       "    }\n",
       "</style>\n",
       "<table border=\"1\" class=\"dataframe\">\n",
       "  <thead>\n",
       "    <tr style=\"text-align: right;\">\n",
       "      <th></th>\n",
       "      <th>2</th>\n",
       "      <th>3</th>\n",
       "      <th>4</th>\n",
       "      <th>5</th>\n",
       "      <th>6</th>\n",
       "      <th>7</th>\n",
       "      <th>8</th>\n",
       "      <th>9</th>\n",
       "      <th>10</th>\n",
       "    </tr>\n",
       "    <tr>\n",
       "      <th>1</th>\n",
       "      <th></th>\n",
       "      <th></th>\n",
       "      <th></th>\n",
       "      <th></th>\n",
       "      <th></th>\n",
       "      <th></th>\n",
       "      <th></th>\n",
       "      <th></th>\n",
       "      <th></th>\n",
       "    </tr>\n",
       "  </thead>\n",
       "  <tbody>\n",
       "    <tr>\n",
       "      <th>AMB_TEMP</th>\n",
       "      <td>21.00</td>\n",
       "      <td>21.00</td>\n",
       "      <td>20.00</td>\n",
       "      <td>20.00</td>\n",
       "      <td>19.00</td>\n",
       "      <td>19.00</td>\n",
       "      <td>19.00</td>\n",
       "      <td>18.00</td>\n",
       "      <td>17.00</td>\n",
       "    </tr>\n",
       "    <tr>\n",
       "      <th>CH4</th>\n",
       "      <td>1.70</td>\n",
       "      <td>1.70</td>\n",
       "      <td>1.70</td>\n",
       "      <td>1.70</td>\n",
       "      <td>1.70</td>\n",
       "      <td>1.70</td>\n",
       "      <td>1.70</td>\n",
       "      <td>1.70</td>\n",
       "      <td>1.80</td>\n",
       "    </tr>\n",
       "    <tr>\n",
       "      <th>CO</th>\n",
       "      <td>0.39</td>\n",
       "      <td>0.36</td>\n",
       "      <td>0.36</td>\n",
       "      <td>0.40</td>\n",
       "      <td>0.53</td>\n",
       "      <td>0.55</td>\n",
       "      <td>0.34</td>\n",
       "      <td>0.31</td>\n",
       "      <td>0.23</td>\n",
       "    </tr>\n",
       "    <tr>\n",
       "      <th>NMHC</th>\n",
       "      <td>0.16</td>\n",
       "      <td>0.24</td>\n",
       "      <td>0.22</td>\n",
       "      <td>0.27</td>\n",
       "      <td>0.27</td>\n",
       "      <td>0.26</td>\n",
       "      <td>0.27</td>\n",
       "      <td>0.29</td>\n",
       "      <td>0.10</td>\n",
       "    </tr>\n",
       "    <tr>\n",
       "      <th>NO</th>\n",
       "      <td>1.30</td>\n",
       "      <td>1.30</td>\n",
       "      <td>1.30</td>\n",
       "      <td>1.30</td>\n",
       "      <td>1.40</td>\n",
       "      <td>1.60</td>\n",
       "      <td>1.20</td>\n",
       "      <td>1.10</td>\n",
       "      <td>0.90</td>\n",
       "    </tr>\n",
       "    <tr>\n",
       "      <th>NO2</th>\n",
       "      <td>17.00</td>\n",
       "      <td>14.00</td>\n",
       "      <td>13.00</td>\n",
       "      <td>14.00</td>\n",
       "      <td>18.00</td>\n",
       "      <td>21.00</td>\n",
       "      <td>8.90</td>\n",
       "      <td>9.40</td>\n",
       "      <td>5.00</td>\n",
       "    </tr>\n",
       "    <tr>\n",
       "      <th>NOx</th>\n",
       "      <td>18.00</td>\n",
       "      <td>16.00</td>\n",
       "      <td>14.00</td>\n",
       "      <td>15.00</td>\n",
       "      <td>20.00</td>\n",
       "      <td>23.00</td>\n",
       "      <td>10.00</td>\n",
       "      <td>10.00</td>\n",
       "      <td>5.80</td>\n",
       "    </tr>\n",
       "    <tr>\n",
       "      <th>O3</th>\n",
       "      <td>32.00</td>\n",
       "      <td>31.00</td>\n",
       "      <td>31.00</td>\n",
       "      <td>26.00</td>\n",
       "      <td>16.00</td>\n",
       "      <td>12.00</td>\n",
       "      <td>27.00</td>\n",
       "      <td>20.00</td>\n",
       "      <td>26.00</td>\n",
       "    </tr>\n",
       "    <tr>\n",
       "      <th>PM10</th>\n",
       "      <td>62.00</td>\n",
       "      <td>50.00</td>\n",
       "      <td>44.00</td>\n",
       "      <td>39.00</td>\n",
       "      <td>38.00</td>\n",
       "      <td>32.00</td>\n",
       "      <td>48.00</td>\n",
       "      <td>36.00</td>\n",
       "      <td>25.00</td>\n",
       "    </tr>\n",
       "    <tr>\n",
       "      <th>PM2.5</th>\n",
       "      <td>33.00</td>\n",
       "      <td>39.00</td>\n",
       "      <td>39.00</td>\n",
       "      <td>25.00</td>\n",
       "      <td>18.00</td>\n",
       "      <td>18.00</td>\n",
       "      <td>17.00</td>\n",
       "      <td>9.00</td>\n",
       "      <td>4.00</td>\n",
       "    </tr>\n",
       "    <tr>\n",
       "      <th>RAINFALL</th>\n",
       "      <td>0.00</td>\n",
       "      <td>0.00</td>\n",
       "      <td>0.00</td>\n",
       "      <td>0.00</td>\n",
       "      <td>0.00</td>\n",
       "      <td>0.00</td>\n",
       "      <td>0.00</td>\n",
       "      <td>0.00</td>\n",
       "      <td>0.00</td>\n",
       "    </tr>\n",
       "    <tr>\n",
       "      <th>RH</th>\n",
       "      <td>83.00</td>\n",
       "      <td>85.00</td>\n",
       "      <td>87.00</td>\n",
       "      <td>87.00</td>\n",
       "      <td>86.00</td>\n",
       "      <td>85.00</td>\n",
       "      <td>78.00</td>\n",
       "      <td>81.00</td>\n",
       "      <td>80.00</td>\n",
       "    </tr>\n",
       "    <tr>\n",
       "      <th>SO2</th>\n",
       "      <td>2.00</td>\n",
       "      <td>1.80</td>\n",
       "      <td>1.80</td>\n",
       "      <td>1.80</td>\n",
       "      <td>2.10</td>\n",
       "      <td>2.60</td>\n",
       "      <td>2.00</td>\n",
       "      <td>2.30</td>\n",
       "      <td>2.40</td>\n",
       "    </tr>\n",
       "    <tr>\n",
       "      <th>THC</th>\n",
       "      <td>1.80</td>\n",
       "      <td>1.90</td>\n",
       "      <td>1.90</td>\n",
       "      <td>2.00</td>\n",
       "      <td>2.00</td>\n",
       "      <td>2.00</td>\n",
       "      <td>2.00</td>\n",
       "      <td>2.00</td>\n",
       "      <td>1.90</td>\n",
       "    </tr>\n",
       "    <tr>\n",
       "      <th>WD_HR</th>\n",
       "      <td>58.00</td>\n",
       "      <td>53.00</td>\n",
       "      <td>67.00</td>\n",
       "      <td>59.00</td>\n",
       "      <td>59.00</td>\n",
       "      <td>73.00</td>\n",
       "      <td>79.00</td>\n",
       "      <td>82.00</td>\n",
       "      <td>104.00</td>\n",
       "    </tr>\n",
       "    <tr>\n",
       "      <th>WIND_DIREC</th>\n",
       "      <td>57.00</td>\n",
       "      <td>44.00</td>\n",
       "      <td>73.00</td>\n",
       "      <td>44.00</td>\n",
       "      <td>56.00</td>\n",
       "      <td>115.00</td>\n",
       "      <td>45.00</td>\n",
       "      <td>107.00</td>\n",
       "      <td>103.00</td>\n",
       "    </tr>\n",
       "    <tr>\n",
       "      <th>WIND_SPEED</th>\n",
       "      <td>1.40</td>\n",
       "      <td>1.30</td>\n",
       "      <td>1.50</td>\n",
       "      <td>1.40</td>\n",
       "      <td>1.60</td>\n",
       "      <td>1.60</td>\n",
       "      <td>1.20</td>\n",
       "      <td>1.80</td>\n",
       "      <td>2.30</td>\n",
       "    </tr>\n",
       "    <tr>\n",
       "      <th>WS_HR</th>\n",
       "      <td>1.00</td>\n",
       "      <td>0.90</td>\n",
       "      <td>0.90</td>\n",
       "      <td>0.90</td>\n",
       "      <td>1.20</td>\n",
       "      <td>0.70</td>\n",
       "      <td>1.00</td>\n",
       "      <td>0.60</td>\n",
       "      <td>1.80</td>\n",
       "    </tr>\n",
       "  </tbody>\n",
       "</table>\n",
       "</div>"
      ],
      "text/plain": [
       "               2      3      4      5      6       7      8       9       10\n",
       "1                                                                           \n",
       "AMB_TEMP    21.00  21.00  20.00  20.00  19.00   19.00  19.00   18.00   17.00\n",
       "CH4          1.70   1.70   1.70   1.70   1.70    1.70   1.70    1.70    1.80\n",
       "CO           0.39   0.36   0.36   0.40   0.53    0.55   0.34    0.31    0.23\n",
       "NMHC         0.16   0.24   0.22   0.27   0.27    0.26   0.27    0.29    0.10\n",
       "NO           1.30   1.30   1.30   1.30   1.40    1.60   1.20    1.10    0.90\n",
       "NO2         17.00  14.00  13.00  14.00  18.00   21.00   8.90    9.40    5.00\n",
       "NOx         18.00  16.00  14.00  15.00  20.00   23.00  10.00   10.00    5.80\n",
       "O3          32.00  31.00  31.00  26.00  16.00   12.00  27.00   20.00   26.00\n",
       "PM10        62.00  50.00  44.00  39.00  38.00   32.00  48.00   36.00   25.00\n",
       "PM2.5       33.00  39.00  39.00  25.00  18.00   18.00  17.00    9.00    4.00\n",
       "RAINFALL     0.00   0.00   0.00   0.00   0.00    0.00   0.00    0.00    0.00\n",
       "RH          83.00  85.00  87.00  87.00  86.00   85.00  78.00   81.00   80.00\n",
       "SO2          2.00   1.80   1.80   1.80   2.10    2.60   2.00    2.30    2.40\n",
       "THC          1.80   1.90   1.90   2.00   2.00    2.00   2.00    2.00    1.90\n",
       "WD_HR       58.00  53.00  67.00  59.00  59.00   73.00  79.00   82.00  104.00\n",
       "WIND_DIREC  57.00  44.00  73.00  44.00  56.00  115.00  45.00  107.00  103.00\n",
       "WIND_SPEED   1.40   1.30   1.50   1.40   1.60    1.60   1.20    1.80    2.30\n",
       "WS_HR        1.00   0.90   0.90   0.90   1.20    0.70   1.00    0.60    1.80"
      ]
     },
     "execution_count": 196,
     "metadata": {},
     "output_type": "execute_result"
    }
   ],
   "source": [
    "data_test = pd.read_csv('test.csv',engine='python',header=None)\n",
    "data_test.drop(0,axis='columns',inplace=True)\n",
    "data_test.set_index(1,inplace=True)\n",
    "data_test[data_test=='NR']=0\n",
    "data_test=data_test.iloc[:,-hours:]\n",
    "data_test = data_test.astype(np.float32)\n",
    "data_test.head(18)"
   ]
  },
  {
   "cell_type": "code",
   "execution_count": 197,
   "metadata": {},
   "outputs": [],
   "source": [
    "num = 240\n",
    "X_pred=np.empty((num,hours*len(features)),dtype=np.float32)\n",
    "for i in range(num):\n",
    "    pos=i*18\n",
    "    X_pred[i,:] = np.array(data_test.iloc[pos:pos+18,:].loc[features]).flatten()\n",
    "\n",
    "X_pred = (X_pred-mu)/sigma\n",
    "    \n",
    "X_pred = np.concatenate((np.ones((X_pred.shape[0],1),dtype=np.float),X_pred),axis=1)\n",
    "\n",
    "y_pred = X_pred@theta"
   ]
  },
  {
   "cell_type": "code",
   "execution_count": 198,
   "metadata": {},
   "outputs": [
    {
     "data": {
      "text/html": [
       "<div>\n",
       "<style scoped>\n",
       "    .dataframe tbody tr th:only-of-type {\n",
       "        vertical-align: middle;\n",
       "    }\n",
       "\n",
       "    .dataframe tbody tr th {\n",
       "        vertical-align: top;\n",
       "    }\n",
       "\n",
       "    .dataframe thead th {\n",
       "        text-align: right;\n",
       "    }\n",
       "</style>\n",
       "<table border=\"1\" class=\"dataframe\">\n",
       "  <thead>\n",
       "    <tr style=\"text-align: right;\">\n",
       "      <th></th>\n",
       "      <th>id</th>\n",
       "      <th>value</th>\n",
       "    </tr>\n",
       "  </thead>\n",
       "  <tbody>\n",
       "    <tr>\n",
       "      <th>0</th>\n",
       "      <td>id_0</td>\n",
       "      <td>4.795376</td>\n",
       "    </tr>\n",
       "    <tr>\n",
       "      <th>1</th>\n",
       "      <td>id_1</td>\n",
       "      <td>17.035627</td>\n",
       "    </tr>\n",
       "    <tr>\n",
       "      <th>2</th>\n",
       "      <td>id_2</td>\n",
       "      <td>24.300378</td>\n",
       "    </tr>\n",
       "    <tr>\n",
       "      <th>3</th>\n",
       "      <td>id_3</td>\n",
       "      <td>8.174104</td>\n",
       "    </tr>\n",
       "    <tr>\n",
       "      <th>4</th>\n",
       "      <td>id_4</td>\n",
       "      <td>27.755850</td>\n",
       "    </tr>\n",
       "  </tbody>\n",
       "</table>\n",
       "</div>"
      ],
      "text/plain": [
       "     id      value\n",
       "0  id_0   4.795376\n",
       "1  id_1  17.035627\n",
       "2  id_2  24.300378\n",
       "3  id_3   8.174104\n",
       "4  id_4  27.755850"
      ]
     },
     "execution_count": 198,
     "metadata": {},
     "output_type": "execute_result"
    }
   ],
   "source": [
    "df_pred = pd.DataFrame(data={'id':[f'id_{i}' for i in range(num)],'value':y_pred.flatten()})\n",
    "\n",
    "df_pred.head()"
   ]
  },
  {
   "cell_type": "code",
   "execution_count": 199,
   "metadata": {},
   "outputs": [],
   "source": [
    "df_pred.to_csv('result.csv',index=False)"
   ]
  },
  {
   "cell_type": "code",
   "execution_count": null,
   "metadata": {},
   "outputs": [],
   "source": []
  }
 ],
 "metadata": {
  "kernelspec": {
   "display_name": "Python 3",
   "language": "python",
   "name": "python3"
  },
  "language_info": {
   "codemirror_mode": {
    "name": "ipython",
    "version": 3
   },
   "file_extension": ".py",
   "mimetype": "text/x-python",
   "name": "python",
   "nbconvert_exporter": "python",
   "pygments_lexer": "ipython3",
   "version": "3.6.9"
  }
 },
 "nbformat": 4,
 "nbformat_minor": 4
}
