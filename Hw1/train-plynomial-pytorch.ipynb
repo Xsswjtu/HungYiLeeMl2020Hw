{
 "cells": [
  {
   "cell_type": "code",
   "execution_count": 36,
   "metadata": {},
   "outputs": [],
   "source": [
    "from DataReader import DataReader\n",
    "\n",
    "dr = DataReader(hours=9)\n",
    "X,y = dr.data()"
   ]
  },
  {
   "cell_type": "code",
   "execution_count": 37,
   "metadata": {},
   "outputs": [],
   "source": [
    "import numpy as np"
   ]
  },
  {
   "cell_type": "code",
   "execution_count": 38,
   "metadata": {},
   "outputs": [],
   "source": [
    "X = np.concatenate((X,(X**2),(X**3)),axis=1)"
   ]
  },
  {
   "cell_type": "code",
   "execution_count": 39,
   "metadata": {},
   "outputs": [],
   "source": [
    "def normal(X):\n",
    "    mu = X.mean(axis=0)\n",
    "    std = X.std(axis=0)\n",
    "    X_norm = (X-mu)/std\n",
    "    return X_norm,mu,std"
   ]
  },
  {
   "cell_type": "code",
   "execution_count": 40,
   "metadata": {},
   "outputs": [],
   "source": [
    "X_norm,mu,std = normal(X)"
   ]
  },
  {
   "cell_type": "code",
   "execution_count": 41,
   "metadata": {},
   "outputs": [],
   "source": [
    "import torch\n",
    "import torch.nn as nn"
   ]
  },
  {
   "cell_type": "code",
   "execution_count": 42,
   "metadata": {},
   "outputs": [],
   "source": [
    "X_norm = torch.from_numpy(X_norm.astype(np.float32))\n",
    "y = torch.from_numpy(y.astype(np.float32))"
   ]
  },
  {
   "cell_type": "code",
   "execution_count": 43,
   "metadata": {},
   "outputs": [],
   "source": [
    "class LinearRegressionModel(nn.Module):\n",
    "    \n",
    "    def __init__(self,n_features):\n",
    "        super(LinearRegressionModel,self).__init__()\n",
    "        self.Lin = nn.Linear(in_features=n_features,out_features=1,bias=True)\n",
    "    \n",
    "    def forward(self,X):\n",
    "        return self.Lin(X)"
   ]
  },
  {
   "cell_type": "code",
   "execution_count": 45,
   "metadata": {},
   "outputs": [
    {
     "name": "stdout",
     "output_type": "stream",
     "text": [
      "epoch:1000 loss:33.86798858642578\n",
      "epoch:2000 loss:32.88368225097656\n",
      "epoch:3000 loss:32.60577392578125\n",
      "epoch:4000 loss:32.50132751464844\n",
      "epoch:5000 loss:32.4572868347168\n",
      "epoch:6000 loss:32.43753433227539\n",
      "epoch:7000 loss:32.4283561706543\n",
      "epoch:8000 loss:32.4239387512207\n",
      "epoch:9000 loss:32.42176818847656\n",
      "epoch:10000 loss:32.42073059082031\n",
      "\n",
      "last train loss:32.42073059082031\n"
     ]
    }
   ],
   "source": [
    "model = LinearRegressionModel(X.shape[1])\n",
    "\n",
    "epoches = 10000\n",
    "lr = 0.01\n",
    "\n",
    "optimizer = torch.optim.SGD(model.parameters(),lr=lr,weight_decay=0.05)\n",
    "criterion = nn.MSELoss()\n",
    "\n",
    "train_loss_history = []\n",
    "# test_loss_history = []\n",
    "\n",
    "for epoch in range(epoches):\n",
    "    y_pred = model(X_norm)\n",
    "    loss = criterion(y_pred,y)\n",
    "    loss.backward()\n",
    "    optimizer.step()\n",
    "    optimizer.zero_grad()\n",
    "    \n",
    "    train_loss_history.append(loss.detach().item())\n",
    "    \n",
    "#     with torch.no_grad():\n",
    "#         y_pred = model(X_test_norm)\n",
    "#         test_loss = criterion(y_pred,y_test)\n",
    "    \n",
    "#     test_loss_history.append(test_loss.detach().item())\n",
    "        \n",
    "#     if (epoch+1) % 1000 == 0:\n",
    "#         print(f'epoch:{epoch+1} loss:{loss.detach().item()} test loss:{test_loss.detach().item()}')\n",
    "    \n",
    "    if (epoch+1) % 1000 == 0:\n",
    "        print(f'epoch:{epoch+1} loss:{loss.detach().item()}')\n",
    "        \n",
    "# print(f'last train loss:{train_loss_history[-1]}\\n last test loss:{test_loss_history[-1]}')\n",
    "print(f'\\nlast train loss:{train_loss_history[-1]}')"
   ]
  },
  {
   "cell_type": "code",
   "execution_count": 46,
   "metadata": {},
   "outputs": [
    {
     "data": {
      "text/plain": [
       "[<matplotlib.lines.Line2D at 0x7f5ef3d0f278>]"
      ]
     },
     "execution_count": 46,
     "metadata": {},
     "output_type": "execute_result"
    },
    {
     "data": {
      "image/png": "[encoded data removed]",
      "text/plain": [
       "<Figure size 432x288 with 1 Axes>"
      ]
     },
     "metadata": {
      "needs_background": "light"
     },
     "output_type": "display_data"
    }
   ],
   "source": [
    "import matplotlib.pyplot as plt\n",
    "\n",
    "plt.plot(train_loss_history)\n",
    "# plt.plot(test_loss_history)\n",
    "\n",
    "# plt.legend(['train','test'])"
   ]
  },
  {
   "cell_type": "code",
   "execution_count": 47,
   "metadata": {},
   "outputs": [],
   "source": [
    "\n",
    "import pandas as pd\n",
    "\n",
    "\n",
    "# In[ ]:\n",
    "\n",
    "\n",
    "df = pd.read_csv('test.csv',header=None)\n",
    "df[df=='NR'] = 0\n",
    "df.drop([0,1],axis=1,inplace=True)\n",
    "# df.head(18)\n",
    "\n",
    "\n",
    "# In[ ]:\n",
    "\n",
    "\n",
    "test_data = np.array(df)\n",
    "\n",
    "\n",
    "# In[ ]:\n",
    "\n",
    "\n",
    "test_data = test_data.astype(np.float32).reshape(240,-1)\n",
    "\n",
    "\n",
    "# In[ ]:\n",
    "\n",
    "\n",
    "test_data = np.concatenate((test_data,(test_data**2),(test_data**3)),axis=1)\n",
    "\n",
    "\n",
    "# In[ ]:\n",
    "\n",
    "\n",
    "test_data = (test_data-mu)/std\n",
    "\n"
   ]
  },
  {
   "cell_type": "code",
   "execution_count": 48,
   "metadata": {},
   "outputs": [],
   "source": [
    "test_data = torch.from_numpy(test_data.astype(np.float32))"
   ]
  },
  {
   "cell_type": "code",
   "execution_count": 49,
   "metadata": {},
   "outputs": [],
   "source": [
    "with torch.no_grad():\n",
    "    p = model(test_data)\n",
    "    out_df = pd.DataFrame({'id':[f'id_{i}' for i in range(240)],'value':p.flatten()})\n",
    "    out_df.to_csv('result.csv',index=False)"
   ]
  },
  {
   "cell_type": "code",
   "execution_count": null,
   "metadata": {},
   "outputs": [],
   "source": []
  }
 ],
 "metadata": {
  "kernelspec": {
   "display_name": "Python 3",
   "language": "python",
   "name": "python3"
  },
  "language_info": {
   "codemirror_mode": {
    "name": "ipython",
    "version": 3
   },
   "file_extension": ".py",
   "mimetype": "text/x-python",
   "name": "python",
   "nbconvert_exporter": "python",
   "pygments_lexer": "ipython3",
   "version": "3.6.9"
  }
 },
 "nbformat": 4,
 "nbformat_minor": 4
}
