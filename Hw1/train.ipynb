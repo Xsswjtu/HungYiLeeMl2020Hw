{
 "cells": [
  {
   "cell_type": "code",
   "execution_count": 1,
   "metadata": {},
   "outputs": [],
   "source": [
    "import numpy as np\n",
    "import pandas as pd\n",
    "import matplotlib.pyplot as plt\n",
    "from sklearn.model_selection import train_test_split"
   ]
  },
  {
   "cell_type": "markdown",
   "metadata": {},
   "source": [
    "functions define"
   ]
  },
  {
   "cell_type": "code",
   "execution_count": 61,
   "metadata": {},
   "outputs": [],
   "source": [
    "def get_data_dict(data):\n",
    "    data_dict = {}\n",
    "    for m in range(12):\n",
    "        row = m*18*20\n",
    "        temp = data.iloc[row:row+18]\n",
    "        for d in range(1,20):\n",
    "            row += 18\n",
    "            temp = pd.concat([temp,data.iloc[row:row+18]],axis=1)\n",
    "        temp.set_axis(range(24*20),axis=1,inplace=True)\n",
    "        data_dict[m] = temp\n",
    "    return data_dict\n",
    "\n",
    "def getMonthTrainData(month,hours,features):\n",
    "    label = month.loc['PM2.5',hours:]\n",
    "    X = np.empty((480-hours,len(features)*hours))\n",
    "    for i in range(480-hours):\n",
    "        X[i,:] = month.loc[features,i:i+hours-1].values.flatten()\n",
    "    return X,label.values.astype(np.float)\n",
    "\n",
    "def getYearTrainData(dict,hours,features):\n",
    "    X,y = getMonthTrainData(dict[0],hours,features)\n",
    "    for m in range(1,12):\n",
    "        temp_X,temp_y = getMonthTrainData(dict[m],hours,features)\n",
    "        X = np.concatenate((X,temp_X),axis=0)\n",
    "        y = np.concatenate((y,temp_y),axis=0)\n",
    "    return X,y.reshape(y.shape[0],-1)\n",
    "\n",
    "def normal(X):\n",
    "    mu = X.mean(axis=0)\n",
    "    sigma = X.std(axis=0)\n",
    "    return (X-mu)/sigma,mu,sigma\n",
    "\n",
    "def loss_fun(theta,X,y,lbd=0):\n",
    "    m = y.shape[0]\n",
    "    theta_1 = theta.copy()\n",
    "    theta_1[0] = 0\n",
    "    X = np.concatenate((np.ones((m,1),dtype=np.float),X),axis=1)\n",
    "    y_pred = X@theta\n",
    "    temp = y_pred - y\n",
    "    loss = temp.T@temp/m/2 + lbd/2/m*theta_1.T@theta_1\n",
    "    grad = X.T@temp/m + lbd/m*theta_1\n",
    "    return loss.item(),grad\n",
    "\n",
    "def gradDecent(init_theta,X_train,y_train,X_test=[],y_test=[],lr=0.01,iteration=1000,lbd=0):\n",
    "    theta = init_theta.copy()\n",
    "    loss,grad = loss_fun(theta,X_train,y_train,lbd=lbd)\n",
    "    \n",
    "    if len(X_test)!=0:\n",
    "        loss_val,_ = loss_fun(theta,X_test,y_test,lbd=0)\n",
    "    loss_history = []\n",
    "    loss_val_history = []\n",
    "    sum_grad_sqrt = 0\n",
    "    for i in range(iteration):\n",
    "        loss_history.append(loss)\n",
    "        if len(X_test)!=0:\n",
    "            loss_val_history.append(loss_val)\n",
    "        sum_grad_sqrt += grad**2\n",
    "#         theta = theta - lr*grad/np.sqrt(sum_grad_sqrt)\n",
    "        theta = theta - lr*grad\n",
    "        loss,grad = loss_fun(theta,X_train,y_train,lbd=lbd)\n",
    "        if len(X_test)!=0:\n",
    "            loss_val,_ = loss_fun(theta,X_test,y_test,lbd=0)\n",
    "    return theta,loss_history,loss_val_history"
   ]
  },
  {
   "cell_type": "markdown",
   "metadata": {},
   "source": [
    "读取训练数据"
   ]
  },
  {
   "cell_type": "code",
   "execution_count": 62,
   "metadata": {},
   "outputs": [],
   "source": [
    "data = pd.read_csv('train.csv',engine='python')\n",
    "\n",
    "data.columns = ['Date', 'Place', 'Test', '0', '1', '2', '3', '4', '5', '6', '7', '8',\n",
    "       '9', '10', '11', '12', '13', '14', '15', '16', '17', '18', '19', '20',\n",
    "       '21', '22', '23']\n",
    "\n",
    "data.drop(['Date','Place'],axis='columns',inplace=True)\n",
    "\n",
    "data.set_index('Test',inplace=True)\n",
    "\n",
    "data[data=='NR'] = 0\n",
    "\n",
    "data_dict = get_data_dict(data)"
   ]
  },
  {
   "cell_type": "code",
   "execution_count": 63,
   "metadata": {},
   "outputs": [],
   "source": [
    "hours = 9\n",
    "features = ['AMB_TEMP', 'CH4', 'CO', 'NMHC', 'NO', 'NO2', 'NOx', 'O3', 'PM10',\n",
    "       'PM2.5', 'RAINFALL', 'RH', 'SO2', 'THC', 'WD_HR', 'WIND_DIREC',\n",
    "       'WIND_SPEED', 'WS_HR']"
   ]
  },
  {
   "cell_type": "code",
   "execution_count": 72,
   "metadata": {
    "scrolled": true
   },
   "outputs": [],
   "source": [
    "X,y = getYearTrainData(data_dict,hours,features)\n",
    "\n",
    "X_train,X_test,y_train,y_test = train_test_split(X, y, test_size=0.33, random_state=42)\n",
    "\n",
    "X_train_norm,mu,sigma = normal(X_train)\n",
    "\n",
    "X_test_norm = (X_test-mu)/sigma\n",
    "\n",
    "m,n = X_train_norm.shape\n",
    "init_theta = np.zeros((n+1,1))\n",
    "lr = 0.01\n",
    "iteration = 10000"
   ]
  },
  {
   "cell_type": "code",
   "execution_count": 73,
   "metadata": {},
   "outputs": [
    {
     "data": {
      "text/plain": [
       "(14.874718878547222, 19.90218597390897)"
      ]
     },
     "execution_count": 73,
     "metadata": {},
     "output_type": "execute_result"
    }
   ],
   "source": [
    "theta,loss_history,loss_val_history = gradDecent(init_theta,X_train_norm,y_train,X_test_norm,y_test,lr,iteration)\n",
    "last_loss,_ = loss_fun(theta,X_train_norm,y_train)\n",
    "last_loss_val,_ = loss_fun(theta,X_test_norm,y_test)\n",
    "\n",
    "last_loss,last_loss_val"
   ]
  },
  {
   "cell_type": "code",
   "execution_count": 74,
   "metadata": {
    "scrolled": true
   },
   "outputs": [
    {
     "data": {
      "text/plain": [
       "<matplotlib.legend.Legend at 0x7f77db031748>"
      ]
     },
     "execution_count": 74,
     "metadata": {},
     "output_type": "execute_result"
    },
    {
     "data": {
      "image/png": "[encoded data removed]",
      "text/plain": [
       "<Figure size 432x288 with 1 Axes>"
      ]
     },
     "metadata": {
      "needs_background": "light"
     },
     "output_type": "display_data"
    }
   ],
   "source": [
    "plt.plot(range(iteration),loss_history,range(iteration),loss_val_history)\n",
    "plt.legend(['train','test'])"
   ]
  },
  {
   "cell_type": "markdown",
   "metadata": {},
   "source": [
    "现在改用前5个小时的features"
   ]
  },
  {
   "cell_type": "code",
   "execution_count": 8,
   "metadata": {},
   "outputs": [],
   "source": [
    "hours = 5"
   ]
  },
  {
   "cell_type": "code",
   "execution_count": 9,
   "metadata": {
    "scrolled": true
   },
   "outputs": [],
   "source": [
    "X,y = getYearTrainData(data_dict,hours,features)"
   ]
  },
  {
   "cell_type": "code",
   "execution_count": 10,
   "metadata": {},
   "outputs": [],
   "source": [
    "X_train,X_test,y_train,y_test = train_test_split(X, y, test_size=0.33, random_state=42)\n",
    "\n",
    "X_train_norm,mu,sigma = normal(X_train)\n",
    "\n",
    "X_test_norm = (X_test-mu)/sigma"
   ]
  },
  {
   "cell_type": "code",
   "execution_count": 11,
   "metadata": {},
   "outputs": [],
   "source": [
    "m,n = X_train_norm.shape\n",
    "init_theta = np.zeros((n+1,1))\n",
    "lr = 0.3\n",
    "iteration = 10000"
   ]
  },
  {
   "cell_type": "code",
   "execution_count": 12,
   "metadata": {},
   "outputs": [
    {
     "data": {
      "text/plain": [
       "(16.755548292687042, 17.51514105534906)"
      ]
     },
     "execution_count": 12,
     "metadata": {},
     "output_type": "execute_result"
    }
   ],
   "source": [
    "theta,loss_history,loss_val_history = gradDecent(init_theta,X_train_norm,y_train,X_test_norm,y_test,lr,iteration)\n",
    "last_loss,_ = loss_fun(theta,X_train_norm,y_train)\n",
    "last_loss_val,_ = loss_fun(theta,X_test_norm,y_test)\n",
    "\n",
    "last_loss,last_loss_val"
   ]
  },
  {
   "cell_type": "markdown",
   "metadata": {},
   "source": [
    "validation set上表现要优于用前9个小时，但是否时因为overfitting呢？"
   ]
  },
  {
   "cell_type": "code",
   "execution_count": 13,
   "metadata": {
    "scrolled": false
   },
   "outputs": [
    {
     "data": {
      "text/plain": [
       "<matplotlib.legend.Legend at 0x7f77db5f5be0>"
      ]
     },
     "execution_count": 13,
     "metadata": {},
     "output_type": "execute_result"
    },
    {
     "data": {
      "image/png": "[encoded data removed]",
      "text/plain": [
       "<Figure size 432x288 with 1 Axes>"
      ]
     },
     "metadata": {
      "needs_background": "light"
     },
     "output_type": "display_data"
    }
   ],
   "source": [
    "plt.plot(range(iteration),loss_history,range(iteration),loss_val_history)\n",
    "plt.legend(['train','test'])"
   ]
  },
  {
   "cell_type": "markdown",
   "metadata": {},
   "source": [
    "如果我只用PM2.5一个特征呢？"
   ]
  },
  {
   "cell_type": "code",
   "execution_count": 14,
   "metadata": {},
   "outputs": [],
   "source": [
    "hours = 9\n",
    "features = ['PM2.5']"
   ]
  },
  {
   "cell_type": "code",
   "execution_count": 15,
   "metadata": {
    "scrolled": true
   },
   "outputs": [],
   "source": [
    "X,y = getYearTrainData(data_dict,hours,features)\n",
    "\n",
    "X_train,X_test,y_train,y_test = train_test_split(X, y, test_size=0.33, random_state=42)\n",
    "\n",
    "X_train_norm,mu,sigma = normal(X_train)\n",
    "\n",
    "X_test_norm = (X_test-mu)/sigma"
   ]
  },
  {
   "cell_type": "code",
   "execution_count": 16,
   "metadata": {},
   "outputs": [],
   "source": [
    "m,n = X_train_norm.shape\n",
    "init_theta = np.zeros((n+1,1))\n",
    "lr = 0.3\n",
    "iteration = 10000"
   ]
  },
  {
   "cell_type": "code",
   "execution_count": 17,
   "metadata": {},
   "outputs": [
    {
     "data": {
      "text/plain": [
       "(17.863090542350836, 20.755032133565358)"
      ]
     },
     "execution_count": 17,
     "metadata": {},
     "output_type": "execute_result"
    }
   ],
   "source": [
    "theta,loss_history,loss_val_history = gradDecent(init_theta,X_train_norm,y_train,X_test_norm,y_test,lr,iteration)\n",
    "last_loss,_ = loss_fun(theta,X_train_norm,y_train)\n",
    "last_loss_val,_ = loss_fun(theta,X_test_norm,y_test)\n",
    "\n",
    "last_loss,last_loss_val"
   ]
  },
  {
   "cell_type": "markdown",
   "metadata": {},
   "source": [
    "可以看到无论是train set还是validation set上，表现都不好。应该是underfitting。"
   ]
  },
  {
   "cell_type": "code",
   "execution_count": 18,
   "metadata": {},
   "outputs": [
    {
     "data": {
      "text/plain": [
       "<matplotlib.legend.Legend at 0x7f77db12f630>"
      ]
     },
     "execution_count": 18,
     "metadata": {},
     "output_type": "execute_result"
    },
    {
     "data": {
      "image/png": "[encoded data removed]",
      "text/plain": [
       "<Figure size 432x288 with 1 Axes>"
      ]
     },
     "metadata": {
      "needs_background": "light"
     },
     "output_type": "display_data"
    }
   ],
   "source": [
    "plt.plot(range(iteration),loss_history,range(iteration),loss_val_history)\n",
    "plt.legend(['train','test'])"
   ]
  },
  {
   "cell_type": "markdown",
   "metadata": {},
   "source": [
    "那我加入正则化看看"
   ]
  },
  {
   "cell_type": "code",
   "execution_count": 19,
   "metadata": {},
   "outputs": [],
   "source": [
    "hours = 9\n",
    "features = ['AMB_TEMP', 'CH4', 'CO', 'NMHC', 'NO', 'NO2', 'NOx', 'O3', 'PM10',\n",
    "       'PM2.5', 'RAINFALL', 'RH', 'SO2', 'THC', 'WD_HR', 'WIND_DIREC',\n",
    "       'WIND_SPEED', 'WS_HR']\n",
    "lbd = 10"
   ]
  },
  {
   "cell_type": "code",
   "execution_count": 32,
   "metadata": {
    "scrolled": true
   },
   "outputs": [],
   "source": [
    "X,y = getYearTrainData(data_dict,hours,features)\n",
    "\n",
    "X_train,X_test,y_train,y_test = train_test_split(X, y, test_size=0.33, random_state=42)\n",
    "\n",
    "X_train_norm,mu,sigma = normal(X_train)\n",
    "\n",
    "X_test_norm = (X_test-mu)/sigma\n",
    "\n",
    "m,n = X_train_norm.shape\n",
    "init_theta = np.zeros((n+1,1))\n",
    "lr = 0.3\n",
    "iteration = 3000"
   ]
  },
  {
   "cell_type": "code",
   "execution_count": 33,
   "metadata": {},
   "outputs": [
    {
     "data": {
      "text/plain": [
       "(16.242358919499832, 21.363433255737906)"
      ]
     },
     "execution_count": 33,
     "metadata": {},
     "output_type": "execute_result"
    }
   ],
   "source": [
    "theta,loss_history,loss_val_history = gradDecent(init_theta,X_train_norm,y_train,\n",
    "                                                 X_test_norm,y_test,lr,iteration,lbd=lbd)\n",
    "last_loss,_ = loss_fun(theta,X_train_norm,y_train)\n",
    "last_loss_val,_ = loss_fun(theta,X_test_norm,y_test)\n",
    "\n",
    "last_loss,last_loss_val"
   ]
  },
  {
   "cell_type": "markdown",
   "metadata": {},
   "source": [
    "在利用前9个小时的全部features时，出现了overfitting"
   ]
  },
  {
   "cell_type": "code",
   "execution_count": 34,
   "metadata": {
    "scrolled": true
   },
   "outputs": [
    {
     "data": {
      "text/plain": [
       "<matplotlib.legend.Legend at 0x7f77db07c358>"
      ]
     },
     "execution_count": 34,
     "metadata": {},
     "output_type": "execute_result"
    },
    {
     "data": {
      "image/png": "[encoded data removed]",
      "text/plain": [
       "<Figure size 432x288 with 1 Axes>"
      ]
     },
     "metadata": {
      "needs_background": "light"
     },
     "output_type": "display_data"
    }
   ],
   "source": [
    "plt.plot(range(iteration),loss_history,range(iteration),loss_val_history)\n",
    "plt.legend(['train','test'])"
   ]
  },
  {
   "cell_type": "markdown",
   "metadata": {},
   "source": [
    "就算是通过正则化，也没能在9小时所有features的选择下获取更好的性能。我选择用5个小时参数来作预测。"
   ]
  },
  {
   "cell_type": "code",
   "execution_count": 75,
   "metadata": {},
   "outputs": [],
   "source": [
    "hours = 9\n",
    "features = ['AMB_TEMP', 'CH4', 'CO', 'NMHC', 'NO', 'NO2', 'NOx', 'O3', 'PM10',\n",
    "       'PM2.5', 'RAINFALL', 'RH', 'SO2', 'THC', 'WD_HR', 'WIND_DIREC',\n",
    "       'WIND_SPEED', 'WS_HR']"
   ]
  },
  {
   "cell_type": "code",
   "execution_count": 76,
   "metadata": {
    "scrolled": true
   },
   "outputs": [],
   "source": [
    "X,y = getYearTrainData(data_dict,hours,features)\n",
    "\n",
    "X_train_norm,mu,sigma = normal(X)\n",
    "y_train = y"
   ]
  },
  {
   "cell_type": "code",
   "execution_count": 77,
   "metadata": {},
   "outputs": [],
   "source": [
    "m,n = X_train_norm.shape\n",
    "init_theta = np.zeros((n+1,1))\n",
    "lr = 0.01\n",
    "iteration = 10000"
   ]
  },
  {
   "cell_type": "code",
   "execution_count": 78,
   "metadata": {},
   "outputs": [
    {
     "data": {
      "text/plain": [
       "16.194755901749712"
      ]
     },
     "execution_count": 78,
     "metadata": {},
     "output_type": "execute_result"
    }
   ],
   "source": [
    "theta,loss_history,loss_val_history = gradDecent(init_theta,X_train_norm,y_train,X_test=[],y_test=[],lr=lr,iteration=iteration)\n",
    "last_loss,_ = loss_fun(theta,X_train_norm,y_train)\n",
    "\n",
    "last_loss"
   ]
  },
  {
   "cell_type": "code",
   "execution_count": 79,
   "metadata": {
    "scrolled": false
   },
   "outputs": [
    {
     "data": {
      "text/plain": [
       "[<matplotlib.lines.Line2D at 0x7f77dafe8438>]"
      ]
     },
     "execution_count": 79,
     "metadata": {},
     "output_type": "execute_result"
    },
    {
     "data": {
      "image/png": "[encoded data removed]",
      "text/plain": [
       "<Figure size 432x288 with 1 Axes>"
      ]
     },
     "metadata": {
      "needs_background": "light"
     },
     "output_type": "display_data"
    }
   ],
   "source": [
    "plt.plot(range(iteration),loss_history)"
   ]
  },
  {
   "cell_type": "code",
   "execution_count": 80,
   "metadata": {},
   "outputs": [],
   "source": [
    "np.save('theta.npy',theta)\n",
    "\n",
    "np.save('mu.npy',mu)\n",
    "\n",
    "np.save('sigma.npy',sigma)"
   ]
  },
  {
   "cell_type": "code",
   "execution_count": null,
   "metadata": {},
   "outputs": [],
   "source": []
  }
 ],
 "metadata": {
  "kernelspec": {
   "display_name": "Python 3",
   "language": "python",
   "name": "python3"
  },
  "language_info": {
   "codemirror_mode": {
    "name": "ipython",
    "version": 3
   },
   "file_extension": ".py",
   "mimetype": "text/x-python",
   "name": "python",
   "nbconvert_exporter": "python",
   "pygments_lexer": "ipython3",
   "version": "3.6.9"
  }
 },
 "nbformat": 4,
 "nbformat_minor": 4
}
