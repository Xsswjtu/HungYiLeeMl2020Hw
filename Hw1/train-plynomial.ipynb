{
 "cells": [
  {
   "cell_type": "code",
   "execution_count": 1,
   "metadata": {},
   "outputs": [],
   "source": [
    "from DataReader import DataReader\n",
    "\n",
    "dr = DataReader(hours=9)\n",
    "X,y = dr.data()"
   ]
  },
  {
   "cell_type": "code",
   "execution_count": 2,
   "metadata": {},
   "outputs": [],
   "source": [
    "import numpy as np"
   ]
  },
  {
   "cell_type": "code",
   "execution_count": 3,
   "metadata": {},
   "outputs": [],
   "source": [
    "X = np.concatenate((X,(X**2),(X**3)),axis=1)"
   ]
  },
  {
   "cell_type": "code",
   "execution_count": 4,
   "metadata": {},
   "outputs": [],
   "source": [
    "def normal(X):\n",
    "    mu = X.mean(axis=0)\n",
    "    std = X.std(axis=0)\n",
    "    X_norm = (X-mu)/std\n",
    "    return X_norm,mu,std"
   ]
  },
  {
   "cell_type": "code",
   "execution_count": 5,
   "metadata": {},
   "outputs": [],
   "source": [
    "from sklearn.model_selection import train_test_split\n",
    "\n",
    "X_train,X_test,y_train,y_test = train_test_split(X,y,test_size=0.5)\n",
    "X_train_norm,mu,std = normal(X_train)\n",
    "X_test_norm = (X_test-mu)/std"
   ]
  },
  {
   "cell_type": "code",
   "execution_count": 6,
   "metadata": {},
   "outputs": [],
   "source": [
    "from LinearRegressionModel import LinearRegreesionModel"
   ]
  },
  {
   "cell_type": "code",
   "execution_count": 7,
   "metadata": {},
   "outputs": [
    {
     "name": "stdout",
     "output_type": "stream",
     "text": [
      "epoch:1000 train loss:19.389069315363326 test loss:21.98845508606931\n",
      "epoch:2000 train loss:18.960403030715085 test loss:22.023039944313407\n",
      "epoch:3000 train loss:18.87540432563106 test loss:22.071372155356887\n",
      "epoch:4000 train loss:18.851186360306787 test loss:22.06185021567684\n",
      "epoch:5000 train loss:18.84300281305395 test loss:22.036674625480003\n",
      "epoch:6000 train loss:18.83998896105535 test loss:22.012680348367137\n",
      "epoch:7000 train loss:18.838825561937217 test loss:21.99393963323189\n",
      "epoch:8000 train loss:18.838363179111056 test loss:21.980396998999684\n",
      "epoch:9000 train loss:18.838175583815143 test loss:21.97097716075732\n",
      "epoch:10000 train loss:18.83809823216843 test loss:21.964562746710595\n"
     ]
    }
   ],
   "source": [
    "model = LinearRegreesionModel(lr=0.01,lbd=100,epoches=10000)\n",
    "model.fit(X_train_norm,y_train,X_test_norm,y_test)\n",
    "train_loss_history,test_loss_history,grad_history = model.history()"
   ]
  },
  {
   "cell_type": "code",
   "execution_count": 8,
   "metadata": {},
   "outputs": [
    {
     "data": {
      "text/plain": [
       "(18.83809818382933, 21.964557514130426)"
      ]
     },
     "execution_count": 8,
     "metadata": {},
     "output_type": "execute_result"
    },
    {
     "data": {
      "image/png": "[encoded data removed]",
      "text/plain": [
       "<Figure size 432x288 with 1 Axes>"
      ]
     },
     "metadata": {
      "needs_background": "light"
     },
     "output_type": "display_data"
    }
   ],
   "source": [
    "import matplotlib.pyplot as plt\n",
    "plt.plot(train_loss_history)\n",
    "plt.plot(test_loss_history)\n",
    "plt.legend(['train','test'])\n",
    "\n",
    "train_loss_history[-1],test_loss_history[-1]"
   ]
  }
 ],
 "metadata": {
  "kernelspec": {
   "display_name": "Python 3",
   "language": "python",
   "name": "python3"
  },
  "language_info": {
   "codemirror_mode": {
    "name": "ipython",
    "version": 3
   },
   "file_extension": ".py",
   "mimetype": "text/x-python",
   "name": "python",
   "nbconvert_exporter": "python",
   "pygments_lexer": "ipython3",
   "version": "3.6.9"
  }
 },
 "nbformat": 4,
 "nbformat_minor": 4
}
