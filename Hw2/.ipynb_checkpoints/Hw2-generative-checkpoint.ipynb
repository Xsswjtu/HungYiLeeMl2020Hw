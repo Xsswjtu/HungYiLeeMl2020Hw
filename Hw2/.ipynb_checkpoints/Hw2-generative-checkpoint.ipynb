{
 "cells": [
  {
   "cell_type": "code",
   "execution_count": 1,
   "metadata": {},
   "outputs": [],
   "source": [
    "import pandas as pd\n",
    "import numpy as np\n",
    "import matplotlib.pyplot as plt\n",
    "from DataReader import DataReader"
   ]
  },
  {
   "cell_type": "code",
   "execution_count": 2,
   "metadata": {},
   "outputs": [],
   "source": [
    "# read data\n",
    "dr = DataReader()\n",
    "dr.read()\n",
    "X_train,X_val,X_test,Y_train,Y_val = dr.data()"
   ]
  },
  {
   "cell_type": "code",
   "execution_count": 4,
   "metadata": {},
   "outputs": [],
   "source": [
    "X_train_0 = []\n",
    "X_train_1 = []\n",
    "\n",
    "for (x,y) in zip(X_train,Y_train.flatten()):\n",
    "    if y == 1:\n",
    "        X_train_1.append(x)\n",
    "    else:\n",
    "        X_train_0.append(x)"
   ]
  },
  {
   "cell_type": "code",
   "execution_count": 24,
   "metadata": {},
   "outputs": [
    {
     "data": {
      "text/plain": [
       "array([[-0.4275529 ,  0.99959475, -0.18224008, ...,  0.80645996,\n",
       "        -1.0148553 ,  1.0148554 ],\n",
       "       [ 1.1997807 ,  0.99959475, -0.18224008, ...,  0.80645996,\n",
       "        -1.0148553 ,  1.0148554 ],\n",
       "       [ 1.6337364 , -1.0004057 , -0.18224008, ..., -1.4553617 ,\n",
       "        -1.0148553 ,  1.0148554 ],\n",
       "       ...,\n",
       "       [-1.3497087 , -1.0004057 , -0.18224008, ..., -1.1073891 ,\n",
       "         0.98536223, -0.9853622 ],\n",
       "       [ 0.38611388,  0.99959475, -0.18224008, ...,  0.80645996,\n",
       "        -1.0148553 ,  1.0148554 ],\n",
       "       [ 0.38611388, -1.0004057 , -0.18224008, ..., -1.4553617 ,\n",
       "        -1.0148553 ,  1.0148554 ]], dtype=float32)"
      ]
     },
     "execution_count": 24,
     "metadata": {},
     "output_type": "execute_result"
    }
   ],
   "source": [
    "X_train"
   ]
  },
  {
   "cell_type": "code",
   "execution_count": 5,
   "metadata": {},
   "outputs": [],
   "source": [
    "X_train_0 = np.array(X_train_0)\n",
    "X_train_1 = np.array(X_train_1)"
   ]
  },
  {
   "cell_type": "code",
   "execution_count": 6,
   "metadata": {},
   "outputs": [],
   "source": [
    "mean0 = X_train_0.mean(axis=0)\n",
    "mean1 = X_train_1.mean(axis=0)"
   ]
  },
  {
   "cell_type": "code",
   "execution_count": 7,
   "metadata": {},
   "outputs": [],
   "source": [
    "n = X_train.shape[1]"
   ]
  },
  {
   "cell_type": "code",
   "execution_count": 17,
   "metadata": {},
   "outputs": [],
   "source": [
    "# Compute in-class covariance\n",
    "cov_0 = np.zeros((n, n))\n",
    "cov_1 = np.zeros((n, n))\n",
    "\n",
    "for x in X_train_0:\n",
    "    cov_0 += np.dot(np.transpose([x - mean0]), [x - mean0]) / X_train_0.shape[0]\n",
    "for x in X_train_1:\n",
    "    cov_1 += np.dot(np.transpose([x - mean1]), [x - mean1]) / X_train_1.shape[0]\n",
    "    "
   ]
  },
  {
   "cell_type": "code",
   "execution_count": 18,
   "metadata": {},
   "outputs": [],
   "source": [
    "cov = (cov_0 * X_train_0.shape[0] + cov_1 * X_train_1.shape[0]) / (X_train_0.shape[0] + X_train_1.shape[0])"
   ]
  },
  {
   "cell_type": "code",
   "execution_count": 25,
   "metadata": {},
   "outputs": [],
   "source": [
    "import numpy.linalg"
   ]
  },
  {
   "cell_type": "code",
   "execution_count": 31,
   "metadata": {},
   "outputs": [],
   "source": [
    "temp0 = X_test - mean0\n",
    "temp1 = X_test - mean1\n",
    "\n",
    "u, s, v = np.linalg.svd(cov, full_matrices=False)\n",
    "inv = np.matmul(v.T * 1 / s, u.T)\n",
    "\n",
    "w = np.dot(inv, mean0 - mean1)\n",
    "b =  (-0.5) * np.dot(mean0, np.dot(inv, mean0)) + 0.5 * np.dot(mean1, np.dot(inv, mean1))\\\n",
    "    + np.log(float(X_train_0.shape[0]) / X_train_1.shape[0])\n"
   ]
  },
  {
   "cell_type": "code",
   "execution_count": 37,
   "metadata": {},
   "outputs": [],
   "source": [
    "def _predict(X, w, b):\n",
    "    # This function returns a truth value prediction for each row of X \n",
    "    # by rounding the result of logistic regression function.\n",
    "    return np.round(_f(X, w, b)).astype(np.int)\n",
    "\n",
    "def _sigmoid(z):\n",
    "    # Sigmoid function can be used to calculate probability.\n",
    "    # To avoid overflow, minimum/maximum output value is set.\n",
    "    return np.clip(1 / (1.0 + np.exp(-z)), 1e-8, 1 - (1e-8))\n",
    "\n",
    "def _f(X, w, b):\n",
    "    # This is the logistic regression function, parameterized by w and b\n",
    "    #\n",
    "    # Arguements:\n",
    "    #     X: input data, shape = [batch_size, data_dimension]\n",
    "    #     w: weight vector, shape = [data_dimension, ]\n",
    "    #     b: bias, scalar\n",
    "    # Output:\n",
    "    #     predicted probability of each row of X being positively labeled, shape = [batch_size, ]\n",
    "    return _sigmoid(np.matmul(X, w) + b)\n",
    "\n",
    "    \n",
    "def _accuracy(Y_pred, Y_label):\n",
    "    # This function calculates prediction accuracy\n",
    "    acc = 1 - np.mean(np.abs(Y_pred - Y_label))\n",
    "    return acc"
   ]
  },
  {
   "cell_type": "code",
   "execution_count": null,
   "metadata": {},
   "outputs": [],
   "source": [
    "lr.theta = np.load('theta.npy')\n",
    "\n",
    "p = predictions = _predict(X_test, w, b)\n",
    "\n",
    "import pandas as pd\n",
    "df = pd.DataFrame({'id':list(range(X_test.shape[0])),\n",
    "                   'label':p.flatten()})\n",
    "\n",
    "df.to_csv('result.csv',index=None)"
   ]
  }
 ],
 "metadata": {
  "kernelspec": {
   "display_name": "Python 3",
   "language": "python",
   "name": "python3"
  },
  "language_info": {
   "codemirror_mode": {
    "name": "ipython",
    "version": 3
   },
   "file_extension": ".py",
   "mimetype": "text/x-python",
   "name": "python",
   "nbconvert_exporter": "python",
   "pygments_lexer": "ipython3",
   "version": "3.6.9"
  }
 },
 "nbformat": 4,
 "nbformat_minor": 4
}
