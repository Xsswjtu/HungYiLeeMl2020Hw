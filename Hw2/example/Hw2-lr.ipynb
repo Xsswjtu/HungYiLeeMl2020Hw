{
 "cells": [
  {
   "cell_type": "code",
   "execution_count": 1,
   "metadata": {},
   "outputs": [],
   "source": [
    "import pandas as pd\n",
    "import numpy as np\n",
    "import matplotlib.pyplot as plt\n",
    "from DataReader import DataReader"
   ]
  },
  {
   "cell_type": "code",
   "execution_count": 2,
   "metadata": {},
   "outputs": [],
   "source": [
    "# read data\n",
    "dr = DataReader(val_size=0.1)\n",
    "dr.read()\n",
    "X_train, X_val, X_test, y_train, y_val = dr.data()\n",
    "\n",
    "X_test = np.concatenate((np.ones((X_test.shape[0],1),dtype=np.int64),X_test),axis=1)\n",
    "# X_val = np.concatenate((np.ones((X_val.shape[0],1),dtype=np.int64),X_val),axis=1)"
   ]
  },
  {
   "cell_type": "code",
   "execution_count": 4,
   "metadata": {},
   "outputs": [],
   "source": [
    "from LogisticRegressionModel import LogisticRegressionModel\n",
    "\n",
    "epoches=100\n",
    "lr = LogisticRegressionModel(lr=0.3,epoches=epoches,lbd=0,batch_size=8)"
   ]
  },
  {
   "cell_type": "code",
   "execution_count": null,
   "metadata": {},
   "outputs": [
    {
     "name": "stdout",
     "output_type": "stream",
     "text": [
      "better accuracy found:0.8599336527828971, model saved!\n",
      "better accuracy found:0.8623295245116107, model saved!\n",
      "better accuracy found:0.8689642462218946, model saved!\n",
      "better accuracy found:0.8720973092517508, model saved!\n",
      "better accuracy found:0.8744931809804645, model saved!\n",
      "better accuracy found:0.8755989679321784, model saved!\n",
      "epoch:10 train accuray:0.8808314560720868 validation accuray:0.8743088831551787\n",
      "better accuracy found:0.8765204570586067, model saved!\n",
      "epoch:20 train accuray:0.8814253532664346 validation accuray:0.8767047548838923\n",
      "better accuracy found:0.8767047548838923, model saved!\n",
      "better accuracy found:0.877441946185035, model saved!\n",
      "epoch:30 train accuray:0.8827769813639156 validation accuray:0.8746774788057501\n",
      "epoch:40 train accuray:0.8836575875486381 validation accuray:0.8785477331367489\n",
      "better accuracy found:0.8785477331367489, model saved!\n",
      "better accuracy found:0.879653520088463, model saved!\n",
      "epoch:50 train accuray:0.8836575875486381 validation accuray:0.8759675635827497\n",
      "epoch:60 train accuray:0.8848249027237354 validation accuray:0.877441946185035\n",
      "epoch:70 train accuray:0.8849682572189228 validation accuray:0.8761518614080354\n",
      "better accuracy found:0.8803907113896056, model saved!\n",
      "epoch:80 train accuray:0.8847225066557445 validation accuray:0.877441946185035\n"
     ]
    }
   ],
   "source": [
    "\n",
    "\n",
    "lr.fit(X_train,y_train,X_val,y_val)\n",
    "\n",
    "history = lr.get_history()\n",
    "\n",
    "plt.plot(range(epoches),history['train accuray'],range(epoches),history['validation accuray'])\n",
    "plt.legend(['train','test'])\n",
    "plt.title('accuracy')\n",
    "\n",
    "plt.figure()\n",
    "plt.plot(range(epoches),history['train loss'],range(epoches),history['validation loss'])\n",
    "plt.legend(['train','test'])\n",
    "plt.title('loss')\n",
    "\n",
    "lr.best_accuracy"
   ]
  },
  {
   "cell_type": "code",
   "execution_count": null,
   "metadata": {},
   "outputs": [],
   "source": [
    "lr.theta = np.load('theta.npy')\n",
    "\n",
    "p = lr.predict(X_test)\n",
    "\n",
    "import pandas as pd\n",
    "df = pd.DataFrame({'id':list(range(X_test.shape[0])),\n",
    "                   'label':p.flatten()})\n",
    "\n",
    "df.to_csv('result.csv',index=None)"
   ]
  },
  {
   "cell_type": "code",
   "execution_count": null,
   "metadata": {},
   "outputs": [],
   "source": []
  }
 ],
 "metadata": {
  "kernelspec": {
   "display_name": "Python 3",
   "language": "python",
   "name": "python3"
  },
  "language_info": {
   "codemirror_mode": {
    "name": "ipython",
    "version": 3
   },
   "file_extension": ".py",
   "mimetype": "text/x-python",
   "name": "python",
   "nbconvert_exporter": "python",
   "pygments_lexer": "ipython3",
   "version": "3.6.9"
  }
 },
 "nbformat": 4,
 "nbformat_minor": 4
}
